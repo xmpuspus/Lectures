{
 "cells": [
  {
   "cell_type": "markdown",
   "metadata": {},
   "source": [
    "### Overall Code Quality Score: 16%\n",
    "- -2 points from lack of code comments\n",
    "- -2 points from non-standard package naming convention"
   ]
  },
  {
   "cell_type": "code",
   "execution_count": 1,
   "metadata": {
    "colab": {},
    "colab_type": "code",
    "id": "MrCfdLtP2RJV"
   },
   "outputs": [
    {
     "name": "stderr",
     "output_type": "stream",
     "text": [
      "/anaconda3/lib/python3.6/site-packages/statsmodels/compat/pandas.py:56: FutureWarning: The pandas.core.datetools module is deprecated and will be removed in a future version. Please use the pandas.tseries module instead.\n",
      "  from pandas.core import datetools\n"
     ]
    }
   ],
   "source": [
    "import numpy as NP\n",
    "import pandas as P\n",
    "import seaborn as sns\n",
    "import matplotlib.pyplot as MPLT\n",
    "import statsmodels.api as sm\n",
    "import statsmodels.formula.api as smf\n",
    "from sklearn.linear_model import LinearRegression # linear regression package\n",
    "from sklearn.model_selection import train_test_split # split dataset\n",
    "from sklearn.metrics import mean_squared_error as mse\n",
    "from sklearn import linear_model\n",
    "sns.set(rc={'figure.figsize':(20,10)})\n"
   ]
  },
  {
   "cell_type": "code",
   "execution_count": 2,
   "metadata": {
    "colab": {},
    "colab_type": "code",
    "id": "_-SlmHSP2SlA"
   },
   "outputs": [],
   "source": [
    "data = P.read_csv('../data/diamonds_regression.csv')"
   ]
  },
  {
   "cell_type": "code",
   "execution_count": 3,
   "metadata": {
    "colab": {},
    "colab_type": "code",
    "id": "lKD5uyOm7IS4"
   },
   "outputs": [],
   "source": [
    "upper_lim = data['carat'].quantile(.95)\n",
    "lower_lim = data['carat'].quantile(.05)\n",
    "data.loc[(data['carat'] > upper_lim),'carat'] = upper_lim\n",
    "data.loc[(data['carat'] < lower_lim),'carat'] = lower_lim"
   ]
  },
  {
   "cell_type": "code",
   "execution_count": 4,
   "metadata": {
    "colab": {},
    "colab_type": "code",
    "id": "nZmYsPm47IS1"
   },
   "outputs": [],
   "source": [
    "upper_lim = data['price'].quantile(.95)\n",
    "lower_lim = data['price'].quantile(.05)\n",
    "data.loc[(data['price'] > upper_lim),'price'] = upper_lim\n",
    "data.loc[(data['price'] < lower_lim),'price'] = lower_lim"
   ]
  },
  {
   "cell_type": "code",
   "execution_count": 5,
   "metadata": {
    "colab": {},
    "colab_type": "code",
    "id": "YZ_6Rn0k7ISx"
   },
   "outputs": [],
   "source": [
    "upper_lim = data['x'].quantile(.95)\n",
    "lower_lim = data['x'].quantile(.05)\n",
    "data.loc[(data['x'] > upper_lim),'x'] = upper_lim\n",
    "data.loc[(data['x'] < lower_lim),'x'] = lower_lim"
   ]
  },
  {
   "cell_type": "code",
   "execution_count": 6,
   "metadata": {
    "colab": {},
    "colab_type": "code",
    "id": "2hoRBmhv7ISu"
   },
   "outputs": [],
   "source": [
    "upper_lim = data['y'].quantile(.95)\n",
    "lower_lim = data['y'].quantile(.05)\n",
    "data.loc[(data['y'] > upper_lim),'y'] = upper_lim\n",
    "data.loc[(data['y'] < lower_lim),'y'] = lower_lim"
   ]
  },
  {
   "cell_type": "code",
   "execution_count": 7,
   "metadata": {
    "colab": {},
    "colab_type": "code",
    "id": "hrVnkLFX7ISq"
   },
   "outputs": [],
   "source": [
    "upper_lim = data['depth'].quantile(.95)\n",
    "lower_lim = data['depth'].quantile(.05)\n",
    "data.loc[(data['depth'] > upper_lim),'depth'] = upper_lim\n",
    "data.loc[(data['depth'] < lower_lim),'depth'] = lower_lim"
   ]
  },
  {
   "cell_type": "code",
   "execution_count": 8,
   "metadata": {
    "colab": {},
    "colab_type": "code",
    "id": "kCgQM04N7ISm"
   },
   "outputs": [],
   "source": [
    "upper_lim = data['table'].quantile(.95)\n",
    "lower_lim = data['table'].quantile(.05)\n",
    "data.loc[(data['table'] > upper_lim),'table'] = upper_lim\n",
    "data.loc[(data['table'] < lower_lim),'table'] = lower_lim"
   ]
  },
  {
   "cell_type": "code",
   "execution_count": 9,
   "metadata": {
    "colab": {},
    "colab_type": "code",
    "id": "UHku9uuq7ISi"
   },
   "outputs": [],
   "source": [
    "upper_lim = data['z'].quantile(.95)\n",
    "lower_lim = data['z'].quantile(.05)\n",
    "data.loc[(data['z'] > upper_lim),'z'] = upper_lim\n",
    "data.loc[(data['z'] < lower_lim),'z'] = lower_lim"
   ]
  },
  {
   "cell_type": "code",
   "execution_count": 10,
   "metadata": {
    "colab": {},
    "colab_type": "code",
    "id": "Jvw46ktr7ISf"
   },
   "outputs": [],
   "source": [
    "data['caratlog+1'] = (data['carat']+1).transform(NP.log)"
   ]
  },
  {
   "cell_type": "code",
   "execution_count": 11,
   "metadata": {
    "colab": {},
    "colab_type": "code",
    "id": "ipSPxSNr0fVu"
   },
   "outputs": [],
   "source": [
    "data['pricelog+1'] = (data['price']+1).transform(NP.log)"
   ]
  },
  {
   "cell_type": "code",
   "execution_count": 12,
   "metadata": {
    "colab": {
     "base_uri": "https://localhost:8080/",
     "height": 1000
    },
    "colab_type": "code",
    "id": "SyoNMLtO7ISV",
    "outputId": "1d7e9ce8-d292-48c7-9a7e-3ea51b6cb360"
   },
   "outputs": [
    {
     "data": {
      "text/plain": [
       "0        4.29\n",
       "39294    4.29\n",
       "39295    4.29\n",
       "39296    4.29\n",
       "39297    4.29\n",
       "39298    4.29\n",
       "17056    4.29\n",
       "17045    4.29\n",
       "17044    4.29\n",
       "17043    4.29\n",
       "17040    4.29\n",
       "39606    4.29\n",
       "39607    4.29\n",
       "39610    4.29\n",
       "39618    4.29\n",
       "39621    4.29\n",
       "39624    4.29\n",
       "16739    4.29\n",
       "16730    4.29\n",
       "16728    4.29\n",
       "16720    4.29\n",
       "16719    4.29\n",
       "39293    4.29\n",
       "39291    4.29\n",
       "39290    4.29\n",
       "39287    4.29\n",
       "17724    4.29\n",
       "17716    4.29\n",
       "17707    4.29\n",
       "17706    4.29\n",
       "         ... \n",
       "24799    7.66\n",
       "24800    7.66\n",
       "24801    7.66\n",
       "24802    7.66\n",
       "24810    7.66\n",
       "24811    7.66\n",
       "24762    7.66\n",
       "24761    7.66\n",
       "24759    7.66\n",
       "24755    7.66\n",
       "24726    7.66\n",
       "24728    7.66\n",
       "24730    7.66\n",
       "24731    7.66\n",
       "24738    7.66\n",
       "24739    7.66\n",
       "24740    7.66\n",
       "24742    7.66\n",
       "24814    7.66\n",
       "24743    7.66\n",
       "24746    7.66\n",
       "24747    7.66\n",
       "24748    7.66\n",
       "24749    7.66\n",
       "24750    7.66\n",
       "24751    7.66\n",
       "24753    7.66\n",
       "24754    7.66\n",
       "24744    7.66\n",
       "26969    7.66\n",
       "Name: x, Length: 53940, dtype: float64"
      ]
     },
     "execution_count": 12,
     "metadata": {},
     "output_type": "execute_result"
    }
   ],
   "source": [
    "data['x'].sort_values()     "
   ]
  },
  {
   "cell_type": "code",
   "execution_count": 13,
   "metadata": {
    "colab": {
     "base_uri": "https://localhost:8080/",
     "height": 1000
    },
    "colab_type": "code",
    "id": "PobMavNb7ISP",
    "outputId": "644023ee-d17f-4a44-a593-6bac4772548a"
   },
   "outputs": [
    {
     "data": {
      "text/plain": [
       "0        4.30\n",
       "33954    4.30\n",
       "33953    4.30\n",
       "33952    4.30\n",
       "33951    4.30\n",
       "33950    4.30\n",
       "33949    4.30\n",
       "33955    4.30\n",
       "33941    4.30\n",
       "33939    4.30\n",
       "33923    4.30\n",
       "33922    4.30\n",
       "33921    4.30\n",
       "33918    4.30\n",
       "33917    4.30\n",
       "33940    4.30\n",
       "33916    4.30\n",
       "50302    4.30\n",
       "50300    4.30\n",
       "23725    4.30\n",
       "23726    4.30\n",
       "23727    4.30\n",
       "23729    4.30\n",
       "33973    4.30\n",
       "33971    4.30\n",
       "50301    4.30\n",
       "50280    4.30\n",
       "33957    4.30\n",
       "33956    4.30\n",
       "50295    4.30\n",
       "         ... \n",
       "24850    7.65\n",
       "24852    7.65\n",
       "24856    7.65\n",
       "24857    7.65\n",
       "24858    7.65\n",
       "24859    7.65\n",
       "24825    7.65\n",
       "24822    7.65\n",
       "24821    7.65\n",
       "24818    7.65\n",
       "24772    7.65\n",
       "24778    7.65\n",
       "24779    7.65\n",
       "24784    7.65\n",
       "24790    7.65\n",
       "24794    7.65\n",
       "24799    7.65\n",
       "24800    7.65\n",
       "24662    7.65\n",
       "24801    7.65\n",
       "24805    7.65\n",
       "24810    7.65\n",
       "24811    7.65\n",
       "24813    7.65\n",
       "24814    7.65\n",
       "24815    7.65\n",
       "24816    7.65\n",
       "24817    7.65\n",
       "24802    7.65\n",
       "26969    7.65\n",
       "Name: y, Length: 53940, dtype: float64"
      ]
     },
     "execution_count": 13,
     "metadata": {},
     "output_type": "execute_result"
    }
   ],
   "source": [
    "data['y'].sort_values()     "
   ]
  },
  {
   "cell_type": "code",
   "execution_count": 14,
   "metadata": {
    "colab": {
     "base_uri": "https://localhost:8080/",
     "height": 1000
    },
    "colab_type": "code",
    "id": "zqRiWFGW7ISK",
    "outputId": "41e811bd-beb5-4c87-b0a8-57bd8503c9e3"
   },
   "outputs": [
    {
     "data": {
      "text/plain": [
       "0        2.65\n",
       "4721     2.65\n",
       "4739     2.65\n",
       "51369    2.65\n",
       "32253    2.65\n",
       "32254    2.65\n",
       "32255    2.65\n",
       "41271    2.65\n",
       "32258    2.65\n",
       "32261    2.65\n",
       "32267    2.65\n",
       "32269    2.65\n",
       "32272    2.65\n",
       "32274    2.65\n",
       "32275    2.65\n",
       "41274    2.65\n",
       "32278    2.65\n",
       "4791     2.65\n",
       "32281    2.65\n",
       "32282    2.65\n",
       "51313    2.65\n",
       "51311    2.65\n",
       "32283    2.65\n",
       "32286    2.65\n",
       "51307    2.65\n",
       "51306    2.65\n",
       "51301    2.65\n",
       "32288    2.65\n",
       "32289    2.65\n",
       "32290    2.65\n",
       "         ... \n",
       "24805    4.73\n",
       "24809    4.73\n",
       "24810    4.73\n",
       "24811    4.73\n",
       "24813    4.73\n",
       "24814    4.73\n",
       "24770    4.73\n",
       "24768    4.73\n",
       "24766    4.73\n",
       "24763    4.73\n",
       "24731    4.73\n",
       "24735    4.73\n",
       "24738    4.73\n",
       "24739    4.73\n",
       "24740    4.73\n",
       "24742    4.73\n",
       "24743    4.73\n",
       "24744    4.73\n",
       "24729    4.73\n",
       "24747    4.73\n",
       "24749    4.73\n",
       "24751    4.73\n",
       "24753    4.73\n",
       "24754    4.73\n",
       "24755    4.73\n",
       "24759    4.73\n",
       "24761    4.73\n",
       "24762    4.73\n",
       "24748    4.73\n",
       "26969    4.73\n",
       "Name: z, Length: 53940, dtype: float64"
      ]
     },
     "execution_count": 14,
     "metadata": {},
     "output_type": "execute_result"
    }
   ],
   "source": [
    "data['z'].sort_values()     "
   ]
  },
  {
   "cell_type": "code",
   "execution_count": 15,
   "metadata": {
    "colab": {},
    "colab_type": "code",
    "id": "Io99gSA37ISF"
   },
   "outputs": [],
   "source": [
    "data = data.drop([15951])     \n",
    "data = data.drop([49557])     \n",
    "data = data.drop([24520])     \n",
    "data = data.drop([11182])     \n",
    "data = data.drop([11963])\n",
    "\n",
    "data = data.drop([49556])     \n",
    "data = data.drop([26243])     \n",
    "data = data.drop([10967])     \n",
    "data = data.drop([27429])  \n",
    "\n",
    "data = data.drop([27503])    \n",
    "data = data.drop([26123])    \n",
    "data = data.drop([4791])    \n",
    "data = data.drop([5471])    \n",
    "data = data.drop([2207])    \n",
    "data = data.drop([27739])    \n",
    "data = data.drop([27112])    \n",
    "data = data.drop([24394])    \n",
    "data = data.drop([10167])    \n",
    "data = data.drop([13601])    \n",
    "data = data.drop([2314])    \n",
    "data = data.drop([51506])    \n"
   ]
  },
  {
   "cell_type": "code",
   "execution_count": 16,
   "metadata": {
    "colab": {},
    "colab_type": "code",
    "id": "77rl6AQk2AHZ"
   },
   "outputs": [],
   "source": [
    "data = data.drop(['x','y','z' , 'carat' , 'price'], axis = 1)"
   ]
  },
  {
   "cell_type": "code",
   "execution_count": 17,
   "metadata": {
    "colab": {
     "base_uri": "https://localhost:8080/",
     "height": 134
    },
    "colab_type": "code",
    "id": "boYZkCdEwqbw",
    "outputId": "93d5db51-025c-4150-8525-e091afc781fd"
   },
   "outputs": [
    {
     "data": {
      "text/plain": [
       "Index(['Unnamed: 0', 'depth', 'table', 'caratlog+1', 'pricelog+1', 'cut_Fair',\n",
       "       'cut_Good', 'cut_Ideal', 'cut_Premium', 'cut_Very Good', 'color_D',\n",
       "       'color_E', 'color_F', 'color_G', 'color_H', 'color_I', 'color_J',\n",
       "       'clarity_I1', 'clarity_IF', 'clarity_SI1', 'clarity_SI2', 'clarity_VS1',\n",
       "       'clarity_VS2', 'clarity_VVS1', 'clarity_VVS2'],\n",
       "      dtype='object')"
      ]
     },
     "execution_count": 17,
     "metadata": {},
     "output_type": "execute_result"
    }
   ],
   "source": [
    "processed_data = P.get_dummies(data)\n",
    "processed_data.columns"
   ]
  },
  {
   "cell_type": "code",
   "execution_count": 18,
   "metadata": {
    "colab": {},
    "colab_type": "code",
    "id": "qv3cyACq7ole"
   },
   "outputs": [],
   "source": [
    "y = processed_data['pricelog+1']"
   ]
  },
  {
   "cell_type": "code",
   "execution_count": 19,
   "metadata": {
    "colab": {},
    "colab_type": "code",
    "id": "GS0W4I4eLhp7"
   },
   "outputs": [],
   "source": [
    "features = ['depth', 'table', 'caratlog+1',\n",
    "       'cut_Fair', 'cut_Good', 'cut_Ideal', 'cut_Premium',\n",
    "       'cut_Very Good', 'color_D', 'color_E', 'color_F', 'color_G',\n",
    "       'color_H', 'color_I', 'color_J', 'clarity_I1', 'clarity_IF',\n",
    "       'clarity_SI1', 'clarity_SI2', 'clarity_VS1', 'clarity_VS2',\n",
    "       'clarity_VVS1', 'clarity_VVS2']"
   ]
  },
  {
   "cell_type": "code",
   "execution_count": 20,
   "metadata": {
    "colab": {},
    "colab_type": "code",
    "id": "6uFnO14YBiaV"
   },
   "outputs": [],
   "source": [
    "X=processed_data[features]"
   ]
  },
  {
   "cell_type": "code",
   "execution_count": 21,
   "metadata": {
    "colab": {},
    "colab_type": "code",
    "id": "yuPzNGfgVzvP"
   },
   "outputs": [],
   "source": [
    "X_train, X_test, y_train, y_test = train_test_split(X, y, test_size = 0.33, random_state = 42)"
   ]
  },
  {
   "cell_type": "code",
   "execution_count": 22,
   "metadata": {
    "colab": {
     "base_uri": "https://localhost:8080/",
     "height": 50
    },
    "colab_type": "code",
    "id": "Nw5IfaCTV0CQ",
    "outputId": "563c6531-82d8-4244-fccd-69707ad4b21c"
   },
   "outputs": [
    {
     "data": {
      "text/plain": [
       "LinearRegression(copy_X=True, fit_intercept=True, n_jobs=None, normalize=False)"
      ]
     },
     "execution_count": 22,
     "metadata": {},
     "output_type": "execute_result"
    }
   ],
   "source": [
    "model = LinearRegression() \n",
    "model.fit(X_train, y_train)"
   ]
  },
  {
   "cell_type": "code",
   "execution_count": 23,
   "metadata": {
    "colab": {},
    "colab_type": "code",
    "id": "LzgDZlW1V1iO"
   },
   "outputs": [],
   "source": [
    "coefficient = model.coef_\n",
    "intercept = model.intercept_"
   ]
  },
  {
   "cell_type": "code",
   "execution_count": 24,
   "metadata": {
    "colab": {
     "base_uri": "https://localhost:8080/",
     "height": 117
    },
    "colab_type": "code",
    "id": "kroFDzBxV3db",
    "outputId": "59d3512d-e2f5-491f-91c1-0de4e617f837"
   },
   "outputs": [
    {
     "data": {
      "text/plain": [
       "array([-9.62301467e-04,  3.05175803e-04,  4.58777103e+00, -6.64202550e-02,\n",
       "       -1.17784864e-02,  5.66659976e-02,  1.79710808e-02,  3.56166305e-03,\n",
       "        2.05032594e-01,  1.46386760e-01,  1.17894213e-01,  4.90591737e-02,\n",
       "       -5.65901483e-02, -1.69737070e-01, -2.92045523e-01, -6.34360449e-01,\n",
       "        3.39071114e-01, -6.98079997e-02, -2.28328686e-01,  1.11530508e-01,\n",
       "        4.31043800e-02,  2.44734515e-01,  1.94056618e-01])"
      ]
     },
     "execution_count": 24,
     "metadata": {},
     "output_type": "execute_result"
    }
   ],
   "source": [
    "coefficient"
   ]
  },
  {
   "cell_type": "code",
   "execution_count": 25,
   "metadata": {
    "colab": {
     "base_uri": "https://localhost:8080/",
     "height": 33
    },
    "colab_type": "code",
    "id": "Z8WOhAVaV4jv",
    "outputId": "aaab71cf-7a6b-48e7-f5e2-5fb4e3fe438a"
   },
   "outputs": [
    {
     "data": {
      "text/plain": [
       "5.227667009055504"
      ]
     },
     "execution_count": 25,
     "metadata": {},
     "output_type": "execute_result"
    }
   ],
   "source": [
    "intercept"
   ]
  },
  {
   "cell_type": "markdown",
   "metadata": {},
   "source": [
    "Minor (non-deductive) Code Comment: Code below was originally `model.score(X, y)`"
   ]
  },
  {
   "cell_type": "code",
   "execution_count": 31,
   "metadata": {
    "colab": {
     "base_uri": "https://localhost:8080/",
     "height": 33
    },
    "colab_type": "code",
    "id": "L42vlWpuV5yB",
    "outputId": "64c38420-44e2-4fdb-e8e0-7ca29019c37d"
   },
   "outputs": [
    {
     "data": {
      "text/plain": [
       "0.9679751044990792"
      ]
     },
     "execution_count": 31,
     "metadata": {},
     "output_type": "execute_result"
    }
   ],
   "source": [
    "model.score(X_test, y_test)"
   ]
  },
  {
   "cell_type": "code",
   "execution_count": 27,
   "metadata": {
    "colab": {},
    "colab_type": "code",
    "id": "qfYJUjxyV7IR"
   },
   "outputs": [],
   "source": [
    "zy_predicted = model.predict(X_test)"
   ]
  },
  {
   "cell_type": "code",
   "execution_count": 28,
   "metadata": {
    "colab": {
     "base_uri": "https://localhost:8080/",
     "height": 33
    },
    "colab_type": "code",
    "id": "ekHahvScla1g",
    "outputId": "30898a6b-af60-40d2-bbdc-238ad8cbefe6"
   },
   "outputs": [
    {
     "name": "stdout",
     "output_type": "stream",
     "text": [
      "Linear Regression RMSE: 0.175692\n"
     ]
    }
   ],
   "source": [
    "lin_mse = mse(zy_predicted, y_test)\n",
    "lin_rmse = NP.sqrt(lin_mse)\n",
    "print('Linear Regression RMSE: %f' % lin_rmse)"
   ]
  },
  {
   "cell_type": "code",
   "execution_count": 29,
   "metadata": {
    "colab": {},
    "colab_type": "code",
    "id": "YPjodJYTV8rL"
   },
   "outputs": [],
   "source": [
    "coefficients_P = P.DataFrame((list(zip(features, model.coef_ * 1000))), columns = ['Features', 'Coefficients'])"
   ]
  },
  {
   "cell_type": "code",
   "execution_count": 30,
   "metadata": {
    "colab": {
     "base_uri": "https://localhost:8080/",
     "height": 616
    },
    "colab_type": "code",
    "id": "syVduDlbV98a",
    "outputId": "b5906636-9576-4cec-8099-eb0f8fda735f"
   },
   "outputs": [
    {
     "data": {
      "text/plain": [
       "<matplotlib.axes._subplots.AxesSubplot at 0x1c1765ac18>"
      ]
     },
     "execution_count": 30,
     "metadata": {},
     "output_type": "execute_result"
    },
    {
     "data": {
      "image/png": "[encoded data removed]",
      "text/plain": [
       "<matplotlib.figure.Figure at 0x1c1765a0b8>"
      ]
     },
     "metadata": {},
     "output_type": "display_data"
    }
   ],
   "source": [
    "coefficients_P.sort_values('Coefficients').set_index('Features').plot(kind = 'barh', color = 'b', legend=False)"
   ]
  },
  {
   "cell_type": "code",
   "execution_count": null,
   "metadata": {
    "colab": {},
    "colab_type": "code",
    "id": "vhz0rNVgHGZV"
   },
   "outputs": [],
   "source": []
  }
 ],
 "metadata": {
  "colab": {
   "name": "Diamonds-ML.ipynb",
   "provenance": [],
   "version": "0.3.2"
  },
  "kernelspec": {
   "display_name": "Python 3",
   "language": "python",
   "name": "python3"
  },
  "language_info": {
   "codemirror_mode": {
    "name": "ipython",
    "version": 3
   },
   "file_extension": ".py",
   "mimetype": "text/x-python",
   "name": "python",
   "nbconvert_exporter": "python",
   "pygments_lexer": "ipython3",
   "version": "3.6.4"
  }
 },
 "nbformat": 4,
 "nbformat_minor": 2
}
