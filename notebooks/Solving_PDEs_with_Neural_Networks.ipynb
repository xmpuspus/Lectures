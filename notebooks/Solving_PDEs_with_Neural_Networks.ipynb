{
  "nbformat": 4,
  "nbformat_minor": 0,
  "metadata": {
    "colab": {
      "name": "Solving PDEs with Neural Networks.ipynb",
      "version": "0.3.2",
      "provenance": [],
      "include_colab_link": true
    },
    "kernelspec": {
      "name": "python3",
      "display_name": "Python 3"
    },
    "accelerator": "GPU"
  },
  "cells": [
    {
      "cell_type": "markdown",
      "metadata": {
        "id": "view-in-github",
        "colab_type": "text"
      },
      "source": [
        "<a href=\"https://colab.research.google.com/github/xmpuspus/Lectures/blob/master/notebooks/Solving_PDEs_with_Neural_Networks.ipynb\" target=\"_parent\"><img src=\"https://colab.research.google.com/assets/colab-badge.svg\" alt=\"Open In Colab\"/></a>"
      ]
    },
    {
      "cell_type": "markdown",
      "metadata": {
        "id": "9FmWVZh60b8O",
        "colab_type": "text"
      },
      "source": [
        "# Solving Partial Diffirential Equations with Neural Networks\n",
        "\n",
        "Limitations (as of May 7, 2019):\n",
        "\n",
        "1. The neural network can only solve 1-dimensional linear advection equations of the form $\\frac{\\partial u}{\\partial t} + a\\frac{\\partial u}{\\partial x} = 0$\n",
        "2. The network has only been trained on PDEs with periodic boundaries. Generalization to non-periodic boundaries is not guaranteed.\n",
        "\n",
        "Preliminary Results (as of May 7, 2019):\n",
        "\n",
        "1. The neural network performs just as well as the Lax-Friedrich scheme.\n",
        "2. Even a 1-layer, non-biased, and non-activated neural net already performs well. This suggests that a simple multiple linear regression should be enough to solve 1D linear advection equations.\n",
        "\n",
        "Suggestions for further research:\n",
        "\n",
        "1. Train on more forms of PDEs (i.e. on higher order and/or higher dimensional PDEs).\n",
        "2. Train on functions with fixed or other non-periodic boundary conditions.\n",
        "3. The `mean_squared_error` loss function performs so much worse than the `mean_absolute_error`. Figure out which loss function is the best. \n",
        "4. Try to minimize the `total variation` of the solution ($TV(u) = \\sum|u_j - u_{j-1}|$). One way to do this is by explicitly adding it as a loss. Try to use the fact that if $C \\geq 0, D \\geq 0, 0 \\leq C+D \\leq 1$ when a scheme is written as $u_j^{n+1} = u_j^n - C(u_{j+1}^n - u_j^n) + D(u_j^n - u_{j-1}^n)$, then the scheme is guaranteed to be stable and non-oscillatory."
      ]
    },
    {
      "cell_type": "markdown",
      "metadata": {
        "id": "QcmnsCeT0kMj",
        "colab_type": "text"
      },
      "source": [
        "## Download and import the necessary libraries"
      ]
    },
    {
      "cell_type": "code",
      "metadata": {
        "id": "xuBcQhwuL4c2",
        "colab_type": "code",
        "colab": {}
      },
      "source": [
        "%%capture\n",
        "!pip3 install tensorflow-gpu==2.0.0-alpha numpy matplotlib pandas"
      ],
      "execution_count": 0,
      "outputs": []
    },
    {
      "cell_type": "code",
      "metadata": {
        "id": "4eev5LbtGgJ5",
        "colab_type": "code",
        "colab": {}
      },
      "source": [
        "import numpy as np\n",
        "import matplotlib.pyplot as plt\n",
        "import pandas as pd\n",
        "\n",
        "import tensorflow.keras as tfk"
      ],
      "execution_count": 0,
      "outputs": []
    },
    {
      "cell_type": "markdown",
      "metadata": {
        "id": "_B_XB4nd0urA",
        "colab_type": "text"
      },
      "source": [
        "## Prepare the data"
      ]
    },
    {
      "cell_type": "markdown",
      "metadata": {
        "id": "CC7twkqa6Ywt",
        "colab_type": "text"
      },
      "source": [
        "First, let's initialize the constants."
      ]
    },
    {
      "cell_type": "code",
      "metadata": {
        "id": "oK4f9cxbCF7M",
        "colab_type": "code",
        "colab": {}
      },
      "source": [
        "left_x = -np.pi\n",
        "right_x = np.pi\n",
        "nx = 100\n",
        "dx = (right_x - left_x) / nx\n",
        "\n",
        "left_t = 0\n",
        "right_t = 1\n",
        "nt = 100\n",
        "dt = (right_t - left_t) / nt"
      ],
      "execution_count": 0,
      "outputs": []
    },
    {
      "cell_type": "markdown",
      "metadata": {
        "id": "ajnj2n7E6QoG",
        "colab_type": "text"
      },
      "source": [
        "Then, let's define the functions we're going to approximate"
      ]
    },
    {
      "cell_type": "code",
      "metadata": {
        "id": "0hrtHOVbGePA",
        "colab_type": "code",
        "colab": {}
      },
      "source": [
        "EPS = 1e-9\n",
        "\n",
        "def f(x, t, a=1):\n",
        "  return np.sin(x - a*t)\n",
        "\n",
        "def g(x, t, a=1):\n",
        "  return np.sin(x - a*t) / (x - a*t + EPS)\n",
        "\n",
        "def h(x, t, a=1):\n",
        "  return np.sin(2*(x - a*t)) + np.cos(x - a*t)"
      ],
      "execution_count": 0,
      "outputs": []
    },
    {
      "cell_type": "code",
      "metadata": {
        "id": "UiHQ-ZYoJyRd",
        "colab_type": "code",
        "colab": {}
      },
      "source": [
        "x = np.linspace(left_x, right_x, nx)\n",
        "\n",
        "u = []\n",
        "v = []\n",
        "w = []\n",
        "for t in range(nt):\n",
        "  u.append(f(x, dt*t))\n",
        "  v.append(g(x, dt*t))\n",
        "  w.append(h(x, dt*t))\n",
        "u = np.asarray(u).T\n",
        "v = np.asarray(v).T\n",
        "w = np.asarray(w).T"
      ],
      "execution_count": 0,
      "outputs": []
    },
    {
      "cell_type": "code",
      "metadata": {
        "id": "z8tyrrFTRS25",
        "colab_type": "code",
        "outputId": "02da4593-853b-475c-dbe9-aa598201506c",
        "colab": {
          "base_uri": "https://localhost:8080/",
          "height": 34
        }
      },
      "source": [
        "u.shape, v.shape, w.shape"
      ],
      "execution_count": 0,
      "outputs": [
        {
          "output_type": "execute_result",
          "data": {
            "text/plain": [
              "((100, 100), (100, 100), (100, 100))"
            ]
          },
          "metadata": {
            "tags": []
          },
          "execution_count": 6
        }
      ]
    },
    {
      "cell_type": "code",
      "metadata": {
        "id": "mVtO5B7G6my6",
        "colab_type": "code",
        "outputId": "a25ca5c0-ba7e-4735-9254-0fec848d03d4",
        "colab": {
          "base_uri": "https://localhost:8080/",
          "height": 295
        }
      },
      "source": [
        "plt.plot(x, u[:,0], label=\"$f(x) = sin(x)$\")\n",
        "plt.plot(x, v[:,0], label=\"$g(x) = \\\\frac{sin(x)}{x}$\")\n",
        "plt.plot(x, w[:,0], label=\"$h(x) = sin(2x) + cos(x)$\")\n",
        "plt.title(\"Initial values of the functions\")\n",
        "plt.legend(loc='lower right')\n",
        "plt.xlabel(\"$x$\")\n",
        "plt.ylabel(\"$y$\")\n",
        "plt.show()"
      ],
      "execution_count": 0,
      "outputs": [
        {
          "output_type": "display_data",
          "data": {
            "image/png": "[encoded data removed]",
            "text/plain": [
              "<Figure size 432x288 with 1 Axes>"
            ]
          },
          "metadata": {
            "tags": []
          }
        }
      ]
    },
    {
      "cell_type": "markdown",
      "metadata": {
        "id": "1-N4zKvF6gkm",
        "colab_type": "text"
      },
      "source": [
        "Then, let's generate features and labels that we're going to use to train our neural network"
      ]
    },
    {
      "cell_type": "code",
      "metadata": {
        "id": "S5JyBzGI0z9y",
        "colab_type": "code",
        "colab": {}
      },
      "source": [
        "def generate_features(u):\n",
        "  features = []\n",
        "  features.append(np.array([u[-2], u[0], u[1]]))\n",
        "  for j in range(1, nx-1):\n",
        "    features.append(u[j-1:j+2])\n",
        "  features.append(np.array([u[-2], u[-1], u[1]]))\n",
        "  return features"
      ],
      "execution_count": 0,
      "outputs": []
    },
    {
      "cell_type": "code",
      "metadata": {
        "id": "4rytZVM3Jxsy",
        "colab_type": "code",
        "colab": {}
      },
      "source": [
        "x_raw = []\n",
        "y_raw = []\n",
        "\n",
        "for n in range(nt-1):\n",
        "  x_raw.extend(generate_features(u[:,n]))\n",
        "  y_raw.extend(u[:,n+1].tolist())\n",
        "    \n",
        "for n in range(nt-1):\n",
        "  x_raw.extend(generate_features(v[:,n]))\n",
        "  y_raw.extend(v[:,n+1].tolist())\n",
        "    \n",
        "for n in range(nt-1):\n",
        "  x_raw.extend(generate_features(v[:,n]))\n",
        "  y_raw.extend(w[:,n+1].tolist())\n",
        "  \n",
        "x_raw = np.asarray(x_raw)\n",
        "y_raw = np.asarray(y_raw)"
      ],
      "execution_count": 0,
      "outputs": []
    },
    {
      "cell_type": "code",
      "metadata": {
        "id": "se7gcpO2KO8v",
        "colab_type": "code",
        "outputId": "fe42beb0-3f8a-4675-aceb-00466eba22e8",
        "colab": {
          "base_uri": "https://localhost:8080/",
          "height": 34
        }
      },
      "source": [
        "print(x_raw.shape, y_raw.shape)"
      ],
      "execution_count": 0,
      "outputs": [
        {
          "output_type": "stream",
          "text": [
            "(29700, 3) (29700,)\n"
          ],
          "name": "stdout"
        }
      ]
    },
    {
      "cell_type": "markdown",
      "metadata": {
        "id": "4yDyoaLF7ysZ",
        "colab_type": "text"
      },
      "source": [
        "## The model"
      ]
    },
    {
      "cell_type": "markdown",
      "metadata": {
        "id": "IAZFvy2L73eJ",
        "colab_type": "text"
      },
      "source": [
        "First, let's define the library,"
      ]
    },
    {
      "cell_type": "code",
      "metadata": {
        "id": "AcZqiThaLQYF",
        "colab_type": "code",
        "colab": {}
      },
      "source": [
        "def build_model(layers=1, n_hidden=3):\n",
        "  model = tfk.Sequential()\n",
        "  model.add(tfk.layers.Input((3,)))\n",
        "  for l in range(1, layers):\n",
        "    model.add(tfk.layers.Dense(n_hidden, kernel_regularizer=tfk.regularizers.l1(0.01), use_bias=False))\n",
        "  model.add(tfk.layers.Dense(1, kernel_regularizer=tfk.regularizers.l1(0.01), use_bias=False))\n",
        "\n",
        "  model.compile(loss='mean_absolute_error',\n",
        "                optimizer='adam',\n",
        "                metrics=['mean_squared_error'])\n",
        "  \n",
        "  return model"
      ],
      "execution_count": 0,
      "outputs": []
    },
    {
      "cell_type": "markdown",
      "metadata": {
        "id": "Wy5EMyuG7527",
        "colab_type": "text"
      },
      "source": [
        "create an instance of it,"
      ]
    },
    {
      "cell_type": "code",
      "metadata": {
        "id": "6UV6sJGZMg73",
        "colab_type": "code",
        "colab": {}
      },
      "source": [
        "nn_solver = build_model()"
      ],
      "execution_count": 0,
      "outputs": []
    },
    {
      "cell_type": "markdown",
      "metadata": {
        "id": "gxM6byWB7_ec",
        "colab_type": "text"
      },
      "source": [
        "inspect it,"
      ]
    },
    {
      "cell_type": "code",
      "metadata": {
        "id": "EgMEWg3WRENO",
        "colab_type": "code",
        "outputId": "d402fa5a-bbca-4819-bfde-b95002f61d7a",
        "colab": {
          "base_uri": "https://localhost:8080/",
          "height": 187
        }
      },
      "source": [
        "nn_solver.summary()"
      ],
      "execution_count": 0,
      "outputs": [
        {
          "output_type": "stream",
          "text": [
            "Model: \"sequential\"\n",
            "_________________________________________________________________\n",
            "Layer (type)                 Output Shape              Param #   \n",
            "=================================================================\n",
            "dense (Dense)                (None, 1)                 3         \n",
            "=================================================================\n",
            "Total params: 3\n",
            "Trainable params: 3\n",
            "Non-trainable params: 0\n",
            "_________________________________________________________________\n"
          ],
          "name": "stdout"
        }
      ]
    },
    {
      "cell_type": "markdown",
      "metadata": {
        "id": "Du2FdVXQ8k3C",
        "colab_type": "text"
      },
      "source": [
        "then train it."
      ]
    },
    {
      "cell_type": "code",
      "metadata": {
        "id": "Oh8h0S2IMmPl",
        "colab_type": "code",
        "outputId": "f872f881-5573-44eb-e93f-ada1a26cbef7",
        "colab": {
          "base_uri": "https://localhost:8080/",
          "height": 51
        }
      },
      "source": [
        "class PrintDot(tfk.callbacks.Callback):\n",
        "  def on_epoch_end(self, epoch, logs):\n",
        "    if epoch % 100 == 0:\n",
        "      print('')\n",
        "    print('.', end='')    \n",
        "\n",
        "early_stop = tfk.callbacks.EarlyStopping(monitor='val_loss', patience=5)\n",
        "    \n",
        "history = nn_solver.fit(\n",
        "  x_raw, y_raw,\n",
        "  epochs=100, validation_split=0.2, verbose=0, callbacks=[PrintDot(), early_stop])"
      ],
      "execution_count": 0,
      "outputs": [
        {
          "output_type": "stream",
          "text": [
            "\n",
            "..........."
          ],
          "name": "stdout"
        }
      ]
    },
    {
      "cell_type": "code",
      "metadata": {
        "id": "FmtCb8tHMtNz",
        "colab_type": "code",
        "outputId": "8b84b56c-82f1-41a3-98b5-88f7e8537736",
        "colab": {
          "base_uri": "https://localhost:8080/",
          "height": 286
        }
      },
      "source": [
        "pd.DataFrame(history.history).plot()"
      ],
      "execution_count": 0,
      "outputs": [
        {
          "output_type": "execute_result",
          "data": {
            "text/plain": [
              "<matplotlib.axes._subplots.AxesSubplot at 0x7f9eeaaa4ef0>"
            ]
          },
          "metadata": {
            "tags": []
          },
          "execution_count": 15
        },
        {
          "output_type": "display_data",
          "data": {
            "image/png": "[encoded data removed]",
            "text/plain": [
              "<Figure size 432x288 with 1 Axes>"
            ]
          },
          "metadata": {
            "tags": []
          }
        }
      ]
    },
    {
      "cell_type": "code",
      "metadata": {
        "id": "YRFa08fDM4K8",
        "colab_type": "code",
        "outputId": "4e0dd673-2046-4444-fc42-124c20c07049",
        "colab": {
          "base_uri": "https://localhost:8080/",
          "height": 68
        }
      },
      "source": [
        "nn_solver.get_weights()"
      ],
      "execution_count": 0,
      "outputs": [
        {
          "output_type": "execute_result",
          "data": {
            "text/plain": [
              "[array([[0.23355539],\n",
              "        [0.69126856],\n",
              "        [0.07558292]], dtype=float32)]"
            ]
          },
          "metadata": {
            "tags": []
          },
          "execution_count": 16
        }
      ]
    },
    {
      "cell_type": "markdown",
      "metadata": {
        "id": "rarozMWA8oj9",
        "colab_type": "text"
      },
      "source": [
        "## Tests"
      ]
    },
    {
      "cell_type": "markdown",
      "metadata": {
        "id": "1anCXAru9hl3",
        "colab_type": "text"
      },
      "source": [
        "### Tests on arbitrary points in time"
      ]
    },
    {
      "cell_type": "markdown",
      "metadata": {
        "id": "LOPE4rvG9rM7",
        "colab_type": "text"
      },
      "source": [
        "#### Seen datasets"
      ]
    },
    {
      "cell_type": "markdown",
      "metadata": {
        "id": "V6aRzeyO-Lok",
        "colab_type": "text"
      },
      "source": [
        "Let's predict $f(x, \\Delta t)$ from $f(x, 0)$"
      ]
    },
    {
      "cell_type": "code",
      "metadata": {
        "id": "swa019dgG8IA",
        "colab_type": "code",
        "outputId": "23a48f9e-d5d5-4119-ee70-6e23e78b57be",
        "colab": {
          "base_uri": "https://localhost:8080/",
          "height": 297
        }
      },
      "source": [
        "y_expected = f(x, dt*1)\n",
        "y_predicted = nn_solver.predict([generate_features(u[:,0])])\n",
        "\n",
        "plt.plot(x, y_expected, label=\"expected\")\n",
        "plt.plot(x, y_predicted, label=\"predicted\")\n",
        "plt.title(\"$f(x, \\Delta t)$\")\n",
        "plt.legend(loc='lower right')\n",
        "plt.xlabel(\"$x$\")\n",
        "plt.ylabel(\"$y$\")\n",
        "plt.show()"
      ],
      "execution_count": 0,
      "outputs": [
        {
          "output_type": "display_data",
          "data": {
            "image/png": "[encoded data removed]",
            "text/plain": [
              "<Figure size 432x288 with 1 Axes>"
            ]
          },
          "metadata": {
            "tags": []
          }
        }
      ]
    },
    {
      "cell_type": "markdown",
      "metadata": {
        "id": "W4IkBWJM-dx3",
        "colab_type": "text"
      },
      "source": [
        "Then let's predict $g(x, 50*\\Delta t)$ from $g(x, 49*\\Delta t)$"
      ]
    },
    {
      "cell_type": "code",
      "metadata": {
        "id": "8l3sEebxHYB9",
        "colab_type": "code",
        "outputId": "89a7dd4d-6148-41c9-eb15-dac4efe3d41f",
        "colab": {
          "base_uri": "https://localhost:8080/",
          "height": 297
        }
      },
      "source": [
        "y_expected = g(x, dt*50)\n",
        "y_predicted = nn_solver.predict([generate_features(v[:,49])])\n",
        "\n",
        "plt.plot(x, y_expected, label=\"expected\")\n",
        "plt.plot(x, y_predicted, label=\"predicted\")\n",
        "plt.title(\"$g(x, 50\\cdot\\Delta t)$\")\n",
        "plt.legend(loc='lower right')\n",
        "plt.xlabel(\"$x$\")\n",
        "plt.ylabel(\"$y$\")\n",
        "plt.show()"
      ],
      "execution_count": 0,
      "outputs": [
        {
          "output_type": "display_data",
          "data": {
            "image/png": "[encoded data removed]",
            "text/plain": [
              "<Figure size 432x288 with 1 Axes>"
            ]
          },
          "metadata": {
            "tags": []
          }
        }
      ]
    },
    {
      "cell_type": "markdown",
      "metadata": {
        "id": "bkE-ieLf_FIW",
        "colab_type": "text"
      },
      "source": [
        "#### Unseen dataset"
      ]
    },
    {
      "cell_type": "code",
      "metadata": {
        "id": "vI__ncGpjImH",
        "colab_type": "code",
        "colab": {}
      },
      "source": [
        "def test_func(x, t, a=1):\n",
        "  return np.sin(x - a*t) + np.cos(3*(x - a*t))"
      ],
      "execution_count": 0,
      "outputs": []
    },
    {
      "cell_type": "markdown",
      "metadata": {
        "id": "GU1sVumm_G1r",
        "colab_type": "text"
      },
      "source": [
        "Note that the neural network hasn't seen this during training. Let's try to predict $h(x, 100*\\Delta t)$ from $h(x, 99*\\Delta t)$"
      ]
    },
    {
      "cell_type": "code",
      "metadata": {
        "id": "eV7zHA8YHlPA",
        "colab_type": "code",
        "outputId": "75bf3294-b528-4b4c-a136-eff4116ce518",
        "colab": {
          "base_uri": "https://localhost:8080/",
          "height": 297
        }
      },
      "source": [
        "y_expected = test_func(x, dt*100)\n",
        "y_predicted = nn_solver.predict([generate_features(test_func(x, dt*99))])\n",
        "\n",
        "plt.plot(x, y_expected, label=\"expected\")\n",
        "plt.plot(x, y_predicted, label=\"predicted\")\n",
        "plt.title(\"$h(x, 100\\cdot\\Delta t)$\")\n",
        "plt.legend(loc='lower right')\n",
        "plt.xlabel(\"$x$\")\n",
        "plt.ylabel(\"$y$\")\n",
        "plt.show()"
      ],
      "execution_count": 0,
      "outputs": [
        {
          "output_type": "display_data",
          "data": {
            "image/png": "[encoded data removed]",
            "text/plain": [
              "<Figure size 432x288 with 1 Axes>"
            ]
          },
          "metadata": {
            "tags": []
          }
        }
      ]
    },
    {
      "cell_type": "markdown",
      "metadata": {
        "id": "ex2sSk98_kaa",
        "colab_type": "text"
      },
      "source": [
        "Yey! Our neural network generalizes to unseen datasets!"
      ]
    },
    {
      "cell_type": "markdown",
      "metadata": {
        "id": "y-qe8J6e_pPm",
        "colab_type": "text"
      },
      "source": [
        "### Commulative predictions"
      ]
    },
    {
      "cell_type": "code",
      "metadata": {
        "id": "-OqjX9MAW82M",
        "colab_type": "code",
        "colab": {}
      },
      "source": [
        "w_test = h(x, 0)\n",
        "for _ in range(20):\n",
        "  w_test = nn_solver.predict([generate_features(w_test)]).flatten()"
      ],
      "execution_count": 0,
      "outputs": []
    },
    {
      "cell_type": "code",
      "metadata": {
        "id": "ctZ76cbYHrX_",
        "colab_type": "code",
        "outputId": "d7427829-5d9d-4130-cb26-f7426cb04dfa",
        "colab": {
          "base_uri": "https://localhost:8080/",
          "height": 297
        }
      },
      "source": [
        "y_expected = h(x, dt*20)\n",
        "y_predicted = w_test.copy()\n",
        "\n",
        "plt.plot(x, y_expected, label=\"expected\")\n",
        "plt.plot(x, y_predicted, label=\"predicted\")\n",
        "plt.title(\"$h(x, 100\\cdot\\Delta t)$\")\n",
        "plt.legend(loc='lower right')\n",
        "plt.xlabel(\"$x$\")\n",
        "plt.ylabel(\"$y$\")\n",
        "plt.show()"
      ],
      "execution_count": 0,
      "outputs": [
        {
          "output_type": "display_data",
          "data": {
            "image/png": "[encoded data removed]",
            "text/plain": [
              "<Figure size 432x288 with 1 Axes>"
            ]
          },
          "metadata": {
            "tags": []
          }
        }
      ]
    },
    {
      "cell_type": "markdown",
      "metadata": {
        "id": "4Z5L5wCYGKrY",
        "colab_type": "text"
      },
      "source": [
        "Okay, the prediction is kinda off but not *that* off"
      ]
    },
    {
      "cell_type": "markdown",
      "metadata": {
        "id": "25E3DTJZGHzw",
        "colab_type": "text"
      },
      "source": [
        "### Comparison to common schemes"
      ]
    },
    {
      "cell_type": "code",
      "metadata": {
        "id": "hdqisUXCMLXm",
        "colab_type": "code",
        "colab": {}
      },
      "source": [
        "def general_upwind_solver(u_0, dt, dx, f, nx, num_timesteps,\n",
        "                  boundary_condition=\"fixed\", boundary_fixed_value=0):\n",
        "  def move_up(u, i):\n",
        "    return u[i] - dt/dx*(f(u[i]) - f(u[i-1]))\n",
        "    \n",
        "  u_now = u_0.copy()\n",
        "  u_next = u_0.copy()\n",
        "  for _ in range(num_timesteps):\n",
        "    for i in range(1, nx):\n",
        "      u_next[i] = move_up(u_now, i)\n",
        "      \n",
        "    if boundary_condition == \"periodic\":\n",
        "      u_next[0] = move_up(u_now, 0)\n",
        "    elif boundary_condition == \"fixed\":\n",
        "      u_next[0] = boundary_fixed_value\n",
        "    else:\n",
        "      u_next[0] = 0\n",
        "    \n",
        "    u_now = u_next.copy()\n",
        "  return u_next"
      ],
      "execution_count": 0,
      "outputs": []
    },
    {
      "cell_type": "code",
      "metadata": {
        "id": "aW3RXIb-AE23",
        "colab_type": "code",
        "colab": {}
      },
      "source": [
        "def lax_friedrich_solver(u_0, dt, dx, f, nx, num_timesteps,\n",
        "                         boundary_condition=\"fixed\", boundary_fixed_value = 0):  \n",
        "  def _next(j):\n",
        "    return j+1 if j+1 < nx else 1\n",
        "  \n",
        "  def _prev(j):\n",
        "    return j-1 if j-1 >= 0 else nx-2\n",
        "  \n",
        "  def move_up(u, i):\n",
        "    return (1/4)*(u[_prev(i)] + 2*u[i] + u[_next(i)]) - \\\n",
        "           (dt/(2*dx))*(f(u[_next(i)]) - f(u[_prev(i)]))\n",
        "    \n",
        "  u_now  = u_0.copy()\n",
        "  u_next = u_0.copy()\n",
        "  for _ in range(num_timesteps):\n",
        "    for i in range(1, nx-1):\n",
        "      u_next[i] = move_up(u_now, i)\n",
        "      \n",
        "    if boundary_condition == \"fixed\":\n",
        "      u_next[0] = boundary_fixed_value\n",
        "      u_next[-1] = boundary_fixed_value\n",
        "    elif boundary_condition == \"periodic\":\n",
        "      u_next[0] = move_up(u_now, 0)\n",
        "      u_next[-1] = move_up(u_now, -1)\n",
        "    \n",
        "    u_now = u_next.copy()\n",
        "  return u_next"
      ],
      "execution_count": 0,
      "outputs": []
    },
    {
      "cell_type": "code",
      "metadata": {
        "id": "LlQSININjrj8",
        "colab_type": "code",
        "colab": {}
      },
      "source": [
        "NT = 20\n",
        "\n",
        "y_expected = test_func(x, dt*NT)\n",
        "y_upwind = general_upwind_solver(test_func(x, 0), dt, dx, lambda u : u, nx, NT, boundary_condition=\"periodic\")\n",
        "y_lax = lax_friedrich_solver(test_func(x, 0), dt, dx, lambda u : u, nx, NT, boundary_condition=\"periodic\")\n",
        "\n",
        "y_nn = test_func(x, 0)\n",
        "for _ in range(NT):\n",
        "  y_nn = nn_solver.predict([generate_features(y_nn)]).flatten()"
      ],
      "execution_count": 0,
      "outputs": []
    },
    {
      "cell_type": "code",
      "metadata": {
        "id": "O0rtX_65LyR8",
        "colab_type": "code",
        "outputId": "cecc0711-bfb3-4913-d919-61c2672d0fe8",
        "colab": {
          "base_uri": "https://localhost:8080/",
          "height": 297
        }
      },
      "source": [
        "plt.plot(x, y_expected, label=\"expected\")\n",
        "plt.plot(x, y_upwind, label=\"upwind scheme\")\n",
        "plt.plot(x, y_lax, label=\"lax-friedrich scheme\")\n",
        "plt.plot(x, y_nn, label=\"neural network prediction\")\n",
        "plt.title(\"$h(x, 100\\cdot\\Delta t)$\")\n",
        "plt.legend(loc='lower right')\n",
        "plt.xlabel(\"$x$\")\n",
        "plt.ylabel(\"$y$\")\n",
        "plt.show()"
      ],
      "execution_count": 0,
      "outputs": [
        {
          "output_type": "display_data",
          "data": {
            "image/png": "[encoded data removed]",
            "text/plain": [
              "<Figure size 432x288 with 1 Axes>"
            ]
          },
          "metadata": {
            "tags": []
          }
        }
      ]
    },
    {
      "cell_type": "code",
      "metadata": {
        "id": "K_y_zPg0UBnO",
        "colab_type": "code",
        "colab": {}
      },
      "source": [
        ""
      ],
      "execution_count": 0,
      "outputs": []
    },
    {
      "cell_type": "markdown",
      "metadata": {
        "id": "sVch1ovgL9OX",
        "colab_type": "text"
      },
      "source": [
        ""
      ]
    }
  ]
}