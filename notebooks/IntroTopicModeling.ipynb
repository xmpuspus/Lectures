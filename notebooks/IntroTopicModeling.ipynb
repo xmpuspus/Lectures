{
  "nbformat": 4,
  "nbformat_minor": 0,
  "metadata": {
    "colab": {
      "name": "IntroTopicModeling.ipynb",
      "version": "0.3.2",
      "provenance": [],
      "collapsed_sections": [],
      "include_colab_link": true
    },
    "kernelspec": {
      "name": "python3",
      "display_name": "Python 3"
    }
  },
  "cells": [
    {
      "cell_type": "markdown",
      "metadata": {
        "id": "view-in-github",
        "colab_type": "text"
      },
      "source": [
        "<a href=\"https://colab.research.google.com/github/xmpuspus/Lectures/blob/master/notebooks/IntroTopicModeling.ipynb\" target=\"_parent\"><img src=\"https://colab.research.google.com/assets/colab-badge.svg\" alt=\"Open In Colab\"/></a>"
      ]
    },
    {
      "cell_type": "markdown",
      "metadata": {
        "id": "0kJbq-wCx2gc",
        "colab_type": "text"
      },
      "source": [
        "# Topic Modeling  \n",
        "As the name suggests, it is a process to automatically identify topics present in a text object and to derive hidden patterns exhibited by a text corpus. \n",
        "\n",
        "Topics can be defined as “a repeating pattern of co-occurring terms in a corpus”. A good topic model should result in – “health”, “doctor”, “patient”, “hospital” for a topic – Healthcare, and “farm”, “crops”, “wheat” for a topic – “Farming”.\n",
        "\n",
        "Topic Models are very useful for the purpose for document clustering, organizing large blocks of textual data, information retrieval from unstructured text and feature selection. For Example – New York Times are using topic models to boost their user – article recommendation engines. Various professionals are using topic models for recruitment industries where they aim to extract latent features of job descriptions and map them to right candidates. They are being used to organize large datasets of emails, customer reviews, and user social media profiles.  \n",
        "\n",
        "[Reference](https://www.analyticsvidhya.com/blog/2016/08/beginners-guide-to-topic-modeling-in-python/)"
      ]
    },
    {
      "cell_type": "markdown",
      "metadata": {
        "id": "MBijpuMRzR88",
        "colab_type": "text"
      },
      "source": [
        "### Import Packages"
      ]
    },
    {
      "cell_type": "code",
      "metadata": {
        "id": "QrPVDlyIzTjS",
        "colab_type": "code",
        "outputId": "4c62fcc3-de64-404e-8ce0-cb9f51343d9e",
        "colab": {
          "base_uri": "https://localhost:8080/",
          "height": 622
        }
      },
      "source": [
        "import nltk\n",
        "from nltk.corpus import stopwords \n",
        "from nltk.stem.wordnet import WordNetLemmatizer\n",
        "import string\n",
        "\n",
        "from gensim.models import CoherenceModel\n",
        "\n",
        "# Plotting tools\n",
        "!pip install pyLDAvis\n",
        "import pyLDAvis\n",
        "import pyLDAvis.gensim  # don't skip this\n",
        "import matplotlib.pyplot as plt\n",
        "%matplotlib inline\n",
        "\n",
        "nltk.download('stopwords')\n",
        "nltk.download('wordnet')"
      ],
      "execution_count": 0,
      "outputs": [
        {
          "output_type": "stream",
          "text": [
            "Collecting pyLDAvis\n",
            "\u001b[?25l  Downloading https://files.pythonhosted.org/packages/a5/3a/af82e070a8a96e13217c8f362f9a73e82d61ac8fff3a2561946a97f96266/pyLDAvis-2.1.2.tar.gz (1.6MB)\n",
            "\u001b[K    100% |████████████████████████████████| 1.6MB 14.0MB/s \n",
            "\u001b[?25hRequirement already satisfied: wheel>=0.23.0 in /usr/local/lib/python3.6/dist-packages (from pyLDAvis) (0.32.3)\n",
            "Requirement already satisfied: numpy>=1.9.2 in /usr/local/lib/python3.6/dist-packages (from pyLDAvis) (1.14.6)\n",
            "Requirement already satisfied: scipy>=0.18.0 in /usr/local/lib/python3.6/dist-packages (from pyLDAvis) (1.1.0)\n",
            "Requirement already satisfied: pandas>=0.17.0 in /usr/local/lib/python3.6/dist-packages (from pyLDAvis) (0.22.0)\n",
            "Requirement already satisfied: joblib>=0.8.4 in /usr/local/lib/python3.6/dist-packages (from pyLDAvis) (0.13.0)\n",
            "Requirement already satisfied: jinja2>=2.7.2 in /usr/local/lib/python3.6/dist-packages (from pyLDAvis) (2.10)\n",
            "Requirement already satisfied: numexpr in /usr/local/lib/python3.6/dist-packages (from pyLDAvis) (2.6.8)\n",
            "Requirement already satisfied: pytest in /usr/local/lib/python3.6/dist-packages (from pyLDAvis) (3.10.1)\n",
            "Requirement already satisfied: future in /usr/local/lib/python3.6/dist-packages (from pyLDAvis) (0.16.0)\n",
            "Collecting funcy (from pyLDAvis)\n",
            "  Downloading https://files.pythonhosted.org/packages/47/a4/204fa23012e913839c2da4514b92f17da82bf5fc8c2c3d902fa3fa3c6eec/funcy-1.11-py2.py3-none-any.whl\n",
            "Requirement already satisfied: python-dateutil>=2 in /usr/local/lib/python3.6/dist-packages (from pandas>=0.17.0->pyLDAvis) (2.5.3)\n",
            "Requirement already satisfied: pytz>=2011k in /usr/local/lib/python3.6/dist-packages (from pandas>=0.17.0->pyLDAvis) (2018.7)\n",
            "Requirement already satisfied: MarkupSafe>=0.23 in /usr/local/lib/python3.6/dist-packages (from jinja2>=2.7.2->pyLDAvis) (1.1.0)\n",
            "Requirement already satisfied: attrs>=17.4.0 in /usr/local/lib/python3.6/dist-packages (from pytest->pyLDAvis) (18.2.0)\n",
            "Requirement already satisfied: six>=1.10.0 in /usr/local/lib/python3.6/dist-packages (from pytest->pyLDAvis) (1.11.0)\n",
            "Requirement already satisfied: more-itertools>=4.0.0 in /usr/local/lib/python3.6/dist-packages (from pytest->pyLDAvis) (4.3.0)\n",
            "Requirement already satisfied: py>=1.5.0 in /usr/local/lib/python3.6/dist-packages (from pytest->pyLDAvis) (1.7.0)\n",
            "Requirement already satisfied: pluggy>=0.7 in /usr/local/lib/python3.6/dist-packages (from pytest->pyLDAvis) (0.8.0)\n",
            "Requirement already satisfied: atomicwrites>=1.0 in /usr/local/lib/python3.6/dist-packages (from pytest->pyLDAvis) (1.2.1)\n",
            "Requirement already satisfied: setuptools in /usr/local/lib/python3.6/dist-packages (from pytest->pyLDAvis) (40.6.3)\n",
            "Building wheels for collected packages: pyLDAvis\n",
            "  Running setup.py bdist_wheel for pyLDAvis ... \u001b[?25l-\b \b\\\b \bdone\n",
            "\u001b[?25h  Stored in directory: /root/.cache/pip/wheels/98/71/24/513a99e58bb6b8465bae4d2d5e9dba8f0bef8179e3051ac414\n",
            "Successfully built pyLDAvis\n",
            "Installing collected packages: funcy, pyLDAvis\n",
            "Successfully installed funcy-1.11 pyLDAvis-2.1.2\n",
            "[nltk_data] Downloading package stopwords to /root/nltk_data...\n",
            "[nltk_data]   Package stopwords is already up-to-date!\n",
            "[nltk_data] Downloading package wordnet to /root/nltk_data...\n",
            "[nltk_data]   Package wordnet is already up-to-date!\n"
          ],
          "name": "stdout"
        },
        {
          "output_type": "execute_result",
          "data": {
            "text/plain": [
              "True"
            ]
          },
          "metadata": {
            "tags": []
          },
          "execution_count": 32
        }
      ]
    },
    {
      "cell_type": "markdown",
      "metadata": {
        "id": "TD5dYjHDys2q",
        "colab_type": "text"
      },
      "source": [
        "### Preparing Documents  \n",
        "We combine these documents to form a corpus."
      ]
    },
    {
      "cell_type": "code",
      "metadata": {
        "id": "IOSwwQo4v4-Z",
        "colab_type": "code",
        "colab": {}
      },
      "source": [
        "doc1 = \"Sugar is bad to consume. My sister likes to have sugar, but not my father.\"\n",
        "doc2 = \"My father spends a lot of time driving my sister around to dance practice.\"\n",
        "doc3 = \"Doctors suggest that driving may cause increased stress and blood pressure.\"\n",
        "doc4 = \"Sometimes I feel pressure to perform well at school, but my father never seems to drive my sister to do better.\"\n",
        "doc5 = \"Health experts say that Sugar is not good for your lifestyle.\"\n",
        "\n",
        "# compile documents\n",
        "doc_complete = [doc1, doc2, doc3, doc4, doc5]"
      ],
      "execution_count": 0,
      "outputs": []
    },
    {
      "cell_type": "markdown",
      "metadata": {
        "id": "lrfGn901y2ep",
        "colab_type": "text"
      },
      "source": [
        "### Cleaning and Preprocessing  \n",
        "Remove the punctuations, stopwords and normalize the corpus."
      ]
    },
    {
      "cell_type": "code",
      "metadata": {
        "id": "RxqECCeVxqMq",
        "colab_type": "code",
        "outputId": "0c5e0250-bd31-4360-d9bf-6a644d9e2236",
        "colab": {
          "base_uri": "https://localhost:8080/",
          "height": 570
        }
      },
      "source": [
        "stop = set(stopwords.words('english'))\n",
        "exclude = set(string.punctuation) \n",
        "lemma = WordNetLemmatizer()\n",
        "def clean(doc):\n",
        "    stop_free = \" \".join([i for i in doc.lower().split() if i not in stop])\n",
        "    punc_free = ''.join(ch for ch in stop_free if ch not in exclude)\n",
        "    normalized = \" \".join(lemma.lemmatize(word) for word in punc_free.split())\n",
        "    return normalized\n",
        "\n",
        "doc_clean = [clean(doc).split() for doc in doc_complete] \n",
        "doc_clean"
      ],
      "execution_count": 0,
      "outputs": [
        {
          "output_type": "execute_result",
          "data": {
            "text/plain": [
              "[['sugar', 'bad', 'consume', 'sister', 'like', 'sugar', 'father'],\n",
              " ['father',\n",
              "  'spends',\n",
              "  'lot',\n",
              "  'time',\n",
              "  'driving',\n",
              "  'sister',\n",
              "  'around',\n",
              "  'dance',\n",
              "  'practice'],\n",
              " ['doctor',\n",
              "  'suggest',\n",
              "  'driving',\n",
              "  'may',\n",
              "  'cause',\n",
              "  'increased',\n",
              "  'stress',\n",
              "  'blood',\n",
              "  'pressure'],\n",
              " ['sometimes',\n",
              "  'feel',\n",
              "  'pressure',\n",
              "  'perform',\n",
              "  'well',\n",
              "  'school',\n",
              "  'father',\n",
              "  'never',\n",
              "  'seems',\n",
              "  'drive',\n",
              "  'sister',\n",
              "  'better'],\n",
              " ['health', 'expert', 'say', 'sugar', 'good', 'lifestyle']]"
            ]
          },
          "metadata": {
            "tags": []
          },
          "execution_count": 15
        }
      ]
    },
    {
      "cell_type": "markdown",
      "metadata": {
        "id": "cALfVNHkzv3r",
        "colab_type": "text"
      },
      "source": [
        "### Preparing Document-Term Matrix"
      ]
    },
    {
      "cell_type": "code",
      "metadata": {
        "id": "h8zb39qRzvrP",
        "colab_type": "code",
        "outputId": "3972a7a6-98b1-4535-9721-84b4ff7c02ab",
        "colab": {
          "base_uri": "https://localhost:8080/",
          "height": 432
        }
      },
      "source": [
        "# Importing Gensim\n",
        "import gensim\n",
        "from gensim import corpora\n",
        "\n",
        "# Creating the term dictionary of our courpus, where every unique term is assigned an index. \n",
        "dictionary = corpora.Dictionary(doc_clean)\n",
        "\n",
        "# Converting list of documents (corpus) into Document Term Matrix using dictionary prepared above.\n",
        "doc_term_matrix = [dictionary.doc2bow(doc) for doc in doc_clean]\n",
        "doc_term_matrix"
      ],
      "execution_count": 0,
      "outputs": [
        {
          "output_type": "execute_result",
          "data": {
            "text/plain": [
              "[[(0, 1), (1, 1), (2, 1), (3, 1), (4, 1), (5, 2)],\n",
              " [(2, 1), (4, 1), (6, 1), (7, 1), (8, 1), (9, 1), (10, 1), (11, 1), (12, 1)],\n",
              " [(8, 1),\n",
              "  (13, 1),\n",
              "  (14, 1),\n",
              "  (15, 1),\n",
              "  (16, 1),\n",
              "  (17, 1),\n",
              "  (18, 1),\n",
              "  (19, 1),\n",
              "  (20, 1)],\n",
              " [(2, 1),\n",
              "  (4, 1),\n",
              "  (18, 1),\n",
              "  (21, 1),\n",
              "  (22, 1),\n",
              "  (23, 1),\n",
              "  (24, 1),\n",
              "  (25, 1),\n",
              "  (26, 1),\n",
              "  (27, 1),\n",
              "  (28, 1),\n",
              "  (29, 1)],\n",
              " [(5, 1), (30, 1), (31, 1), (32, 1), (33, 1), (34, 1)]]"
            ]
          },
          "metadata": {
            "tags": []
          },
          "execution_count": 16
        }
      ]
    },
    {
      "cell_type": "markdown",
      "metadata": {
        "id": "rBOoVFg4zvin",
        "colab_type": "text"
      },
      "source": [
        "### Running Latent Dirichlet Allocation (LDA) Model"
      ]
    },
    {
      "cell_type": "code",
      "metadata": {
        "id": "41EWd987zXZA",
        "colab_type": "code",
        "colab": {}
      },
      "source": [
        "# Creating the object for LDA model using gensim library\n",
        "Lda = gensim.models.ldamodel.LdaModel\n",
        "\n",
        "# Running and Trainign LDA model on the document term matrix.\n",
        "ldamodel = Lda(doc_term_matrix, num_topics=3, id2word = dictionary, passes=50, random_state=42)"
      ],
      "execution_count": 0,
      "outputs": []
    },
    {
      "cell_type": "markdown",
      "metadata": {
        "id": "ATMRG-q5zsQu",
        "colab_type": "text"
      },
      "source": [
        "### Results"
      ]
    },
    {
      "cell_type": "markdown",
      "metadata": {
        "id": "fEmYmXYX3_EP",
        "colab_type": "text"
      },
      "source": [
        "Topic-Word Distribution"
      ]
    },
    {
      "cell_type": "code",
      "metadata": {
        "id": "JzRHrSNo0dyz",
        "colab_type": "code",
        "outputId": "80645552-ed55-4372-a601-011b4ea683e6",
        "colab": {
          "base_uri": "https://localhost:8080/",
          "height": 35
        }
      },
      "source": [
        "print(ldamodel.print_topics(num_topics=3, num_words=2))"
      ],
      "execution_count": 0,
      "outputs": [
        {
          "output_type": "stream",
          "text": [
            "[(0, '0.135*\"sugar\" + 0.054*\"consume\"'), (1, '0.079*\"driving\" + 0.045*\"blood\"'), (2, '0.057*\"father\" + 0.057*\"sister\"')]\n"
          ],
          "name": "stdout"
        }
      ]
    },
    {
      "cell_type": "markdown",
      "metadata": {
        "id": "Oe6-k0uZ6SRQ",
        "colab_type": "text"
      },
      "source": [
        "Above results show that 3 topics. We can infer them through inspection:\n",
        "\n",
        "Topic 0 -- Sugar  \n",
        "Topic 1 -- Driving  \n",
        "Topic 2 -- Family  "
      ]
    },
    {
      "cell_type": "markdown",
      "metadata": {
        "id": "wEhlipdz4BxH",
        "colab_type": "text"
      },
      "source": [
        "Document-Topic Distribution"
      ]
    },
    {
      "cell_type": "code",
      "metadata": {
        "id": "3H3g4EMC7BCd",
        "colab_type": "code",
        "colab": {}
      },
      "source": [
        "topic_lists = ['Sugar', 'Driving', 'Family']"
      ],
      "execution_count": 0,
      "outputs": []
    },
    {
      "cell_type": "code",
      "metadata": {
        "id": "eNo5WWO73xd8",
        "colab_type": "code",
        "colab": {}
      },
      "source": [
        "lists = ldamodel.get_document_topics(doc_term_matrix, minimum_probability=0.0)"
      ],
      "execution_count": 0,
      "outputs": []
    },
    {
      "cell_type": "code",
      "metadata": {
        "id": "_sks7-9h6Dd8",
        "colab_type": "code",
        "outputId": "5a21b7e7-a0d1-42d0-9841-c961843137c9",
        "colab": {
          "base_uri": "https://localhost:8080/",
          "height": 52
        }
      },
      "source": [
        "print ('Document 1: ', doc1)\n",
        "[(topic_lists[i[0]], i[1]) for i in lists[0]]"
      ],
      "execution_count": 0,
      "outputs": [
        {
          "output_type": "stream",
          "text": [
            "Document 1:  Sugar is bad to consume. My sister likes to have sugar, but not my father.\n"
          ],
          "name": "stdout"
        },
        {
          "output_type": "execute_result",
          "data": {
            "text/plain": [
              "[('Sugar', 0.9128762), ('Driving', 0.043293275), ('Family', 0.04383049)]"
            ]
          },
          "metadata": {
            "tags": []
          },
          "execution_count": 61
        }
      ]
    },
    {
      "cell_type": "code",
      "metadata": {
        "id": "U0kDEpm66C9z",
        "colab_type": "code",
        "outputId": "7e255233-cb88-48f4-fcb3-579c10b2d426",
        "colab": {
          "base_uri": "https://localhost:8080/",
          "height": 52
        }
      },
      "source": [
        "print ('Document 2: ', doc2)\n",
        "[(topic_lists[i[0]], i[1]) for i in lists[1]]"
      ],
      "execution_count": 0,
      "outputs": [
        {
          "output_type": "stream",
          "text": [
            "Document 2:  My father spends a lot of time driving my sister around to dance practice.\n"
          ],
          "name": "stdout"
        },
        {
          "output_type": "execute_result",
          "data": {
            "text/plain": [
              "[('Sugar', 0.034941718), ('Driving', 0.93001276), ('Family', 0.0350455)]"
            ]
          },
          "metadata": {
            "tags": []
          },
          "execution_count": 62
        }
      ]
    },
    {
      "cell_type": "code",
      "metadata": {
        "id": "fW7Mhp0_6fKY",
        "colab_type": "code",
        "outputId": "bd0b73b5-218f-4f7a-a9ee-0e90922453c3",
        "colab": {
          "base_uri": "https://localhost:8080/",
          "height": 52
        }
      },
      "source": [
        "print ('Document 3: ', doc3)\n",
        "[(topic_lists[i[0]], i[1]) for i in lists[2]]"
      ],
      "execution_count": 0,
      "outputs": [
        {
          "output_type": "stream",
          "text": [
            "Document 3:  Doctors suggest that driving may cause increased stress and blood pressure.\n"
          ],
          "name": "stdout"
        },
        {
          "output_type": "execute_result",
          "data": {
            "text/plain": [
              "[('Sugar', 0.033592276), ('Driving', 0.93213683), ('Family', 0.034270868)]"
            ]
          },
          "metadata": {
            "tags": []
          },
          "execution_count": 63
        }
      ]
    },
    {
      "cell_type": "code",
      "metadata": {
        "id": "WrWjBjt06ojh",
        "colab_type": "code",
        "outputId": "6022af78-bf4f-4e19-8b6e-bab0ebb0db35",
        "colab": {
          "base_uri": "https://localhost:8080/",
          "height": 52
        }
      },
      "source": [
        "print ('Document 4: ', doc4)\n",
        "[(topic_lists[i[0]], i[1]) for i in lists[3]]"
      ],
      "execution_count": 0,
      "outputs": [
        {
          "output_type": "stream",
          "text": [
            "Document 4:  Sometimes I feel pressure to perform well at school, but my father never seems to drive my sister to do better.\n"
          ],
          "name": "stdout"
        },
        {
          "output_type": "execute_result",
          "data": {
            "text/plain": [
              "[('Sugar', 0.026379962), ('Driving', 0.026502648), ('Family', 0.9471174)]"
            ]
          },
          "metadata": {
            "tags": []
          },
          "execution_count": 64
        }
      ]
    },
    {
      "cell_type": "code",
      "metadata": {
        "id": "ZlAqxmQt6wyv",
        "colab_type": "code",
        "outputId": "6fa9505d-50e9-4853-e11f-4b0aa5d8610e",
        "colab": {
          "base_uri": "https://localhost:8080/",
          "height": 52
        }
      },
      "source": [
        "print ('Document 5: ', doc5)\n",
        "[(topic_lists[i[0]], i[1]) for i in lists[4]]"
      ],
      "execution_count": 0,
      "outputs": [
        {
          "output_type": "stream",
          "text": [
            "Document 5:  Health experts say that Sugar is not good for your lifestyle.\n"
          ],
          "name": "stdout"
        },
        {
          "output_type": "execute_result",
          "data": {
            "text/plain": [
              "[('Sugar', 0.90422046), ('Driving', 0.047857955), ('Family', 0.04792159)]"
            ]
          },
          "metadata": {
            "tags": []
          },
          "execution_count": 65
        }
      ]
    },
    {
      "cell_type": "markdown",
      "metadata": {
        "id": "a-YxbJbU1kMi",
        "colab_type": "text"
      },
      "source": [
        "### Compute Perplexity and Coherence Socre"
      ]
    },
    {
      "cell_type": "code",
      "metadata": {
        "id": "LHLLwcRq0eNp",
        "colab_type": "code",
        "outputId": "8712ec6e-2acc-4b27-adf5-966a868df134",
        "colab": {
          "base_uri": "https://localhost:8080/",
          "height": 86
        }
      },
      "source": [
        "# Compute Perplexity\n",
        "print('\\nPerplexity: ', ldamodel.log_perplexity(doc_term_matrix))  # a measure of how good the model is. lower the better.\n",
        "\n",
        "# Compute Coherence Score\n",
        "coherence_model_lda = CoherenceModel(model=ldamodel, texts=doc_clean, dictionary=dictionary, coherence='c_v')\n",
        "coherence_lda = coherence_model_lda.get_coherence()\n",
        "print('\\nCoherence Score: ', coherence_lda)"
      ],
      "execution_count": 0,
      "outputs": [
        {
          "output_type": "stream",
          "text": [
            "\n",
            "Perplexity:  -4.158875516680784\n",
            "\n",
            "Coherence Score:  0.35696487231896973\n"
          ],
          "name": "stdout"
        }
      ]
    },
    {
      "cell_type": "markdown",
      "metadata": {
        "id": "wfg0MrP-3RZA",
        "colab_type": "text"
      },
      "source": [
        "### Visualize Topics-Keywords"
      ]
    },
    {
      "cell_type": "code",
      "metadata": {
        "id": "f8wrGvVx2W-G",
        "colab_type": "code",
        "outputId": "d4f986fa-e6f0-4c71-fc6f-631af7eb361a",
        "colab": {
          "base_uri": "https://localhost:8080/",
          "height": 862
        }
      },
      "source": [
        "# Visualize the topics\n",
        "pyLDAvis.enable_notebook()\n",
        "vis = pyLDAvis.gensim.prepare(ldamodel, doc_term_matrix, dictionary)\n",
        "vis"
      ],
      "execution_count": 0,
      "outputs": [
        {
          "output_type": "execute_result",
          "data": {
            "text/html": [
              "\n",
              "<link rel=\"stylesheet\" type=\"text/css\" href=\"https://cdn.rawgit.com/bmabey/pyLDAvis/files/ldavis.v1.0.0.css\">\n",
              "\n",
              "\n",
              "<div id=\"ldavis_el741400032043153207491711449\"></div>\n",
              "<script type=\"text/javascript\">\n",
              "\n",
              "var ldavis_el741400032043153207491711449_data = {\"mdsDat\": {\"Freq\": [41.087005615234375, 29.64877700805664, 29.26421546936035], \"cluster\": [1, 1, 1], \"topics\": [1, 2, 3], \"x\": [0.07849776292977625, -0.0886886603615686, 0.010190897431792334], \"y\": [-0.046689598917976555, -0.032253584306170695, 0.07894318322414727]}, \"tinfo\": {\"Category\": [\"Default\", \"Default\", \"Default\", \"Default\", \"Default\", \"Default\", \"Default\", \"Default\", \"Default\", \"Default\", \"Default\", \"Default\", \"Default\", \"Default\", \"Default\", \"Default\", \"Default\", \"Default\", \"Default\", \"Default\", \"Default\", \"Default\", \"Default\", \"Default\", \"Default\", \"Default\", \"Default\", \"Default\", \"Default\", \"Default\", \"Topic1\", \"Topic1\", \"Topic1\", \"Topic1\", \"Topic1\", \"Topic1\", \"Topic1\", \"Topic1\", \"Topic1\", \"Topic1\", \"Topic1\", \"Topic1\", \"Topic1\", \"Topic1\", \"Topic1\", \"Topic1\", \"Topic1\", \"Topic1\", \"Topic1\", \"Topic1\", \"Topic1\", \"Topic1\", \"Topic1\", \"Topic1\", \"Topic1\", \"Topic1\", \"Topic1\", \"Topic1\", \"Topic1\", \"Topic1\", \"Topic1\", \"Topic1\", \"Topic1\", \"Topic1\", \"Topic2\", \"Topic2\", \"Topic2\", \"Topic2\", \"Topic2\", \"Topic2\", \"Topic2\", \"Topic2\", \"Topic2\", \"Topic2\", \"Topic2\", \"Topic2\", \"Topic2\", \"Topic2\", \"Topic2\", \"Topic2\", \"Topic2\", \"Topic2\", \"Topic2\", \"Topic2\", \"Topic2\", \"Topic2\", \"Topic2\", \"Topic2\", \"Topic2\", \"Topic2\", \"Topic2\", \"Topic2\", \"Topic2\", \"Topic2\", \"Topic2\", \"Topic2\", \"Topic2\", \"Topic2\", \"Topic2\", \"Topic3\", \"Topic3\", \"Topic3\", \"Topic3\", \"Topic3\", \"Topic3\", \"Topic3\", \"Topic3\", \"Topic3\", \"Topic3\", \"Topic3\", \"Topic3\", \"Topic3\", \"Topic3\", \"Topic3\", \"Topic3\", \"Topic3\", \"Topic3\", \"Topic3\", \"Topic3\", \"Topic3\", \"Topic3\", \"Topic3\", \"Topic3\", \"Topic3\", \"Topic3\", \"Topic3\", \"Topic3\", \"Topic3\", \"Topic3\", \"Topic3\"], \"Freq\": [2.0, 1.0, 1.0, 1.0, 1.0, 1.0, 1.0, 1.0, 1.0, 1.0, 1.0, 1.0, 1.0, 1.0, 1.0, 1.0, 1.0, 1.0, 1.0, 1.0, 1.0, 1.0, 1.0, 1.0, 1.0, 1.0, 1.0, 1.0, 1.0, 1.0, 1.39009428024292, 0.7941736578941345, 0.7941736578941345, 0.7941736578941345, 0.7941736578941345, 0.7941736578941345, 0.7941736578941345, 0.7941736578941345, 0.7941319346427917, 0.7941319346427917, 0.7941319346427917, 0.7941319346427917, 0.7941319346427917, 0.7941319346427917, 0.7922441363334656, 0.7915147542953491, 0.7915146350860596, 0.19882728159427643, 0.19882728159427643, 0.19882726669311523, 0.19882726669311523, 0.19882726669311523, 0.19881905615329742, 0.19881905615329742, 0.19881905615329742, 0.19873711466789246, 0.19873711466789246, 0.19873711466789246, 0.19873711466789246, 0.19873711466789246, 0.19873711466789246, 0.19873711466789246, 0.19873711466789246, 0.19880780577659607, 1.7228947877883911, 0.6889325380325317, 0.6889325380325317, 0.6889325380325317, 0.6889234185218811, 0.6889234185218811, 0.6889234185218811, 0.6889234185218811, 0.6889234185218811, 0.687701404094696, 0.6877012848854065, 0.17242343723773956, 0.17242343723773956, 0.17242343723773956, 0.17242343723773956, 0.17242343723773956, 0.17242343723773956, 0.17242343723773956, 0.17242343723773956, 0.17242343723773956, 0.17250338196754456, 0.17250338196754456, 0.17250338196754456, 0.17250338196754456, 0.17250338196754456, 0.17250338196754456, 0.1724809855222702, 0.1724809855222702, 0.1724809855222702, 0.1724809855222702, 0.17258088290691376, 0.17248281836509705, 0.1724809855222702, 0.1724809855222702, 0.1724809855222702, 0.7079980373382568, 0.7079980969429016, 0.7079980969429016, 0.7079980373382568, 0.7079980969429016, 0.7079980969429016, 0.7079980373382568, 0.7079980373382568, 0.7079980969429016, 0.70998615026474, 0.7125354409217834, 0.7125354409217834, 0.17725825309753418, 0.17725825309753418, 0.17725825309753418, 0.17725825309753418, 0.17725825309753418, 0.1772562563419342, 0.1772562563419342, 0.1772562563419342, 0.17724201083183289, 0.17724201083183289, 0.17724201083183289, 0.17724201083183289, 0.17724201083183289, 0.17724201083183289, 0.17722785472869873, 0.17722785472869873, 0.17722785472869873, 0.17722785472869873, 0.17724072933197021], \"Term\": [\"sugar\", \"driving\", \"well\", \"seems\", \"drive\", \"school\", \"better\", \"feel\", \"never\", \"perform\", \"sometimes\", \"bad\", \"like\", \"consume\", \"expert\", \"good\", \"health\", \"lifestyle\", \"say\", \"pressure\", \"stress\", \"suggest\", \"increased\", \"doctor\", \"cause\", \"blood\", \"may\", \"time\", \"spends\", \"practice\", \"driving\", \"may\", \"stress\", \"suggest\", \"doctor\", \"cause\", \"blood\", \"increased\", \"time\", \"practice\", \"spends\", \"lot\", \"dance\", \"around\", \"pressure\", \"father\", \"sister\", \"say\", \"health\", \"lifestyle\", \"expert\", \"good\", \"consume\", \"like\", \"bad\", \"perform\", \"never\", \"feel\", \"sometimes\", \"seems\", \"better\", \"well\", \"school\", \"sugar\", \"sugar\", \"bad\", \"consume\", \"like\", \"lifestyle\", \"say\", \"good\", \"health\", \"expert\", \"sister\", \"father\", \"sometimes\", \"feel\", \"never\", \"perform\", \"drive\", \"better\", \"well\", \"school\", \"seems\", \"time\", \"dance\", \"around\", \"spends\", \"practice\", \"lot\", \"cause\", \"blood\", \"doctor\", \"increased\", \"pressure\", \"driving\", \"may\", \"stress\", \"suggest\", \"perform\", \"better\", \"well\", \"sometimes\", \"seems\", \"school\", \"never\", \"feel\", \"drive\", \"pressure\", \"father\", \"sister\", \"lifestyle\", \"say\", \"expert\", \"good\", \"health\", \"consume\", \"like\", \"bad\", \"time\", \"spends\", \"practice\", \"lot\", \"dance\", \"around\", \"cause\", \"blood\", \"doctor\", \"increased\", \"sugar\"], \"Total\": [2.0, 1.0, 1.0, 1.0, 1.0, 1.0, 1.0, 1.0, 1.0, 1.0, 1.0, 1.0, 1.0, 1.0, 1.0, 1.0, 1.0, 1.0, 1.0, 1.0, 1.0, 1.0, 1.0, 1.0, 1.0, 1.0, 1.0, 1.0, 1.0, 1.0, 1.7398016452789307, 1.1438825130462646, 1.1438825130462646, 1.1438825130462646, 1.1438825130462646, 1.1438825130462646, 1.1438825130462646, 1.1438825130462646, 1.143877387046814, 1.143877387046814, 1.143877387046814, 1.143877387046814, 1.143877387046814, 1.143877387046814, 1.6748111248016357, 2.191751480102539, 2.191751480102539, 1.0650088787078857, 1.0650088787078857, 1.0650088787078857, 1.0650088787078857, 1.0650088787078857, 1.0650078058242798, 1.0650078058242798, 1.0650078058242798, 1.0791585445404053, 1.0791585445404053, 1.0791585445404053, 1.0791585445404053, 1.0791586637496948, 1.0791586637496948, 1.0791586637496948, 1.0791586637496948, 2.0989432334899902, 2.0989432334899902, 1.0650078058242798, 1.0650078058242798, 1.0650078058242798, 1.0650088787078857, 1.0650088787078857, 1.0650088787078857, 1.0650088787078857, 1.0650088787078857, 2.191751480102539, 2.191751480102539, 1.0791585445404053, 1.0791585445404053, 1.0791585445404053, 1.0791585445404053, 1.0791586637496948, 1.0791586637496948, 1.0791586637496948, 1.0791586637496948, 1.0791586637496948, 1.143877387046814, 1.143877387046814, 1.143877387046814, 1.143877387046814, 1.143877387046814, 1.143877387046814, 1.1438825130462646, 1.1438825130462646, 1.1438825130462646, 1.1438825130462646, 1.6748111248016357, 1.7398016452789307, 1.1438825130462646, 1.1438825130462646, 1.1438825130462646, 1.0791585445404053, 1.0791586637496948, 1.0791586637496948, 1.0791585445404053, 1.0791586637496948, 1.0791586637496948, 1.0791585445404053, 1.0791585445404053, 1.0791586637496948, 1.6748111248016357, 2.191751480102539, 2.191751480102539, 1.0650088787078857, 1.0650088787078857, 1.0650088787078857, 1.0650088787078857, 1.0650088787078857, 1.0650078058242798, 1.0650078058242798, 1.0650078058242798, 1.143877387046814, 1.143877387046814, 1.143877387046814, 1.143877387046814, 1.143877387046814, 1.143877387046814, 1.1438825130462646, 1.1438825130462646, 1.1438825130462646, 1.1438825130462646, 2.0989432334899902], \"loglift\": [30.0, 29.0, 28.0, 27.0, 26.0, 25.0, 24.0, 23.0, 22.0, 21.0, 20.0, 19.0, 18.0, 17.0, 16.0, 15.0, 14.0, 13.0, 12.0, 11.0, 10.0, 9.0, 8.0, 7.0, 6.0, 5.0, 4.0, 3.0, 2.0, 1.0, 0.6650999784469604, 0.5246000289916992, 0.5246000289916992, 0.5246000289916992, 0.5246000289916992, 0.5246000289916992, 0.5246000289916992, 0.5246000289916992, 0.5245000123977661, 0.5245000123977661, 0.5245000123977661, 0.5245000123977661, 0.5245000123977661, 0.5245000123977661, 0.14090000092983246, -0.1289999932050705, -0.1289999932050705, -0.7888000011444092, -0.7888000011444092, -0.7888000011444092, -0.7888000011444092, -0.7888000011444092, -0.7889000177383423, -0.7889000177383423, -0.7889000177383423, -0.8025000095367432, -0.8025000095367432, -0.8025000095367432, -0.8025000095367432, -0.8025000095367432, -0.8025000095367432, -0.8025000095367432, -0.8025000095367432, -1.4673999547958374, 1.0183000564575195, 0.7802000045776367, 0.7802000045776367, 0.7802000045776367, 0.7800999879837036, 0.7800999879837036, 0.7800999879837036, 0.7800999879837036, 0.7800999879837036, 0.05660000070929527, 0.05660000070929527, -0.6182000041007996, -0.6182000041007996, -0.6182000041007996, -0.6182000041007996, -0.6182000041007996, -0.6182000041007996, -0.6182000041007996, -0.6182000041007996, -0.6182000041007996, -0.6759999990463257, -0.6759999990463257, -0.6759999990463257, -0.6759999990463257, -0.6759999990463257, -0.6759999990463257, -0.6761000156402588, -0.6761000156402588, -0.6761000156402588, -0.6761000156402588, -1.0568000078201294, -1.0954999923706055, -0.6761000156402588, -0.6761000156402588, -0.6761000156402588, 0.8072999715805054, 0.8072999715805054, 0.8072999715805054, 0.8072999715805054, 0.8072999715805054, 0.8072999715805054, 0.8072999715805054, 0.8072999715805054, 0.8072999715805054, 0.37059998512268066, 0.10520000010728836, 0.10520000010728836, -0.564300000667572, -0.564300000667572, -0.564300000667572, -0.564300000667572, -0.564300000667572, -0.564300000667572, -0.564300000667572, -0.564300000667572, -0.6359000205993652, -0.6359000205993652, -0.6359000205993652, -0.6359000205993652, -0.6359000205993652, -0.6359000205993652, -0.6359000205993652, -0.6359000205993652, -0.6359000205993652, -0.6359000205993652, -1.242900013923645], \"logprob\": [30.0, 29.0, 28.0, 27.0, 26.0, 25.0, 24.0, 23.0, 22.0, 21.0, 20.0, 19.0, 18.0, 17.0, 16.0, 15.0, 14.0, 13.0, 12.0, 11.0, 10.0, 9.0, 8.0, 7.0, 6.0, 5.0, 4.0, 3.0, 2.0, 1.0, -2.5423998832702637, -3.1022000312805176, -3.1022000312805176, -3.1022000312805176, -3.1022000312805176, -3.1022000312805176, -3.1022000312805176, -3.1022000312805176, -3.1022000312805176, -3.1022000312805176, -3.1022000312805176, -3.1022000312805176, -3.1022000312805176, -3.1022000312805176, -3.104599952697754, -3.1054999828338623, -3.1054999828338623, -4.486999988555908, -4.486999988555908, -4.486999988555908, -4.486999988555908, -4.486999988555908, -4.487100124359131, -4.487100124359131, -4.487100124359131, -4.487500190734863, -4.487500190734863, -4.487500190734863, -4.487500190734863, -4.487500190734863, -4.487500190734863, -4.487500190734863, -4.487500190734863, -4.487100124359131, -2.0013999938964844, -2.918100118637085, -2.918100118637085, -2.918100118637085, -2.918100118637085, -2.918100118637085, -2.918100118637085, -2.918100118637085, -2.918100118637085, -2.9198999404907227, -2.9198999404907227, -4.303299903869629, -4.303299903869629, -4.303299903869629, -4.303299903869629, -4.303299903869629, -4.303299903869629, -4.303299903869629, -4.303299903869629, -4.303299903869629, -4.302800178527832, -4.302800178527832, -4.302800178527832, -4.302800178527832, -4.302800178527832, -4.302800178527832, -4.3028998374938965, -4.3028998374938965, -4.3028998374938965, -4.3028998374938965, -4.302299976348877, -4.3028998374938965, -4.3028998374938965, -4.3028998374938965, -4.3028998374938965, -2.877700090408325, -2.877700090408325, -2.877700090408325, -2.877700090408325, -2.877700090408325, -2.877700090408325, -2.877700090408325, -2.877700090408325, -2.877700090408325, -2.8749001026153564, -2.871299982070923, -2.871299982070923, -4.262499809265137, -4.262499809265137, -4.262499809265137, -4.262499809265137, -4.262499809265137, -4.262599945068359, -4.262599945068359, -4.262599945068359, -4.262599945068359, -4.262599945068359, -4.262599945068359, -4.262599945068359, -4.262599945068359, -4.262599945068359, -4.262700080871582, -4.262700080871582, -4.262700080871582, -4.262700080871582, -4.262599945068359]}, \"token.table\": {\"Topic\": [1, 2, 3, 1, 1, 2, 1, 1, 3, 1, 2, 1, 2, 3, 3, 2, 2, 1, 2, 2, 1, 1, 3, 3, 1, 1, 3, 2, 3, 3, 1, 2, 3, 3, 1, 1, 2, 1, 1, 3], \"Freq\": [0.8742195963859558, 0.9389602541923523, 0.9266477823257446, 0.8742156624794006, 0.8742156624794006, 0.9389602541923523, 0.8742195963859558, 0.8742156624794006, 0.9266477823257446, 0.574778139591217, 0.9389593005180359, 0.45625612139701843, 0.45625612139701843, 0.45625612139701843, 0.9266479015350342, 0.9389593005180359, 0.9389593005180359, 0.8742156624794006, 0.9389593005180359, 0.9389602541923523, 0.8742195963859558, 0.8742156624794006, 0.9266479015350342, 0.9266479015350342, 0.8742195963859558, 0.597082257270813, 0.597082257270813, 0.9389593005180359, 0.9266477823257446, 0.9266477823257446, 0.45625612139701843, 0.45625612139701843, 0.45625612139701843, 0.9266479015350342, 0.8742195963859558, 0.8742156624794006, 0.9528604745864868, 0.8742156624794006, 0.8742195963859558, 0.9266477823257446], \"Term\": [\"around\", \"bad\", \"better\", \"blood\", \"cause\", \"consume\", \"dance\", \"doctor\", \"drive\", \"driving\", \"expert\", \"father\", \"father\", \"father\", \"feel\", \"good\", \"health\", \"increased\", \"lifestyle\", \"like\", \"lot\", \"may\", \"never\", \"perform\", \"practice\", \"pressure\", \"pressure\", \"say\", \"school\", \"seems\", \"sister\", \"sister\", \"sister\", \"sometimes\", \"spends\", \"stress\", \"sugar\", \"suggest\", \"time\", \"well\"]}, \"R\": 30, \"lambda.step\": 0.01, \"plot.opts\": {\"xlab\": \"PC1\", \"ylab\": \"PC2\"}, \"topic.order\": [2, 1, 3]};\n",
              "\n",
              "function LDAvis_load_lib(url, callback){\n",
              "  var s = document.createElement('script');\n",
              "  s.src = url;\n",
              "  s.async = true;\n",
              "  s.onreadystatechange = s.onload = callback;\n",
              "  s.onerror = function(){console.warn(\"failed to load library \" + url);};\n",
              "  document.getElementsByTagName(\"head\")[0].appendChild(s);\n",
              "}\n",
              "\n",
              "if(typeof(LDAvis) !== \"undefined\"){\n",
              "   // already loaded: just create the visualization\n",
              "   !function(LDAvis){\n",
              "       new LDAvis(\"#\" + \"ldavis_el741400032043153207491711449\", ldavis_el741400032043153207491711449_data);\n",
              "   }(LDAvis);\n",
              "}else if(typeof define === \"function\" && define.amd){\n",
              "   // require.js is available: use it to load d3/LDAvis\n",
              "   require.config({paths: {d3: \"https://cdnjs.cloudflare.com/ajax/libs/d3/3.5.5/d3.min\"}});\n",
              "   require([\"d3\"], function(d3){\n",
              "      window.d3 = d3;\n",
              "      LDAvis_load_lib(\"https://cdn.rawgit.com/bmabey/pyLDAvis/files/ldavis.v1.0.0.js\", function(){\n",
              "        new LDAvis(\"#\" + \"ldavis_el741400032043153207491711449\", ldavis_el741400032043153207491711449_data);\n",
              "      });\n",
              "    });\n",
              "}else{\n",
              "    // require.js not available: dynamically load d3 & LDAvis\n",
              "    LDAvis_load_lib(\"https://cdnjs.cloudflare.com/ajax/libs/d3/3.5.5/d3.min.js\", function(){\n",
              "         LDAvis_load_lib(\"https://cdn.rawgit.com/bmabey/pyLDAvis/files/ldavis.v1.0.0.js\", function(){\n",
              "                 new LDAvis(\"#\" + \"ldavis_el741400032043153207491711449\", ldavis_el741400032043153207491711449_data);\n",
              "            })\n",
              "         });\n",
              "}\n",
              "</script>"
            ],
            "text/plain": [
              "PreparedData(topic_coordinates=            Freq  cluster  topics         x         y\n",
              "topic                                                \n",
              "1      41.087006        1       1  0.078498 -0.046690\n",
              "0      29.648777        1       2 -0.088689 -0.032254\n",
              "2      29.264215        1       3  0.010191  0.078943, topic_info=     Category      Freq       Term     Total  loglift  logprob\n",
              "term                                                          \n",
              "5     Default  2.000000      sugar  2.000000  30.0000  30.0000\n",
              "8     Default  1.000000    driving  1.000000  29.0000  29.0000\n",
              "29    Default  1.000000       well  1.000000  28.0000  28.0000\n",
              "27    Default  1.000000      seems  1.000000  27.0000  27.0000\n",
              "22    Default  1.000000      drive  1.000000  26.0000  26.0000\n",
              "26    Default  1.000000     school  1.000000  25.0000  25.0000\n",
              "21    Default  1.000000     better  1.000000  24.0000  24.0000\n",
              "23    Default  1.000000       feel  1.000000  23.0000  23.0000\n",
              "24    Default  1.000000      never  1.000000  22.0000  22.0000\n",
              "25    Default  1.000000    perform  1.000000  21.0000  21.0000\n",
              "28    Default  1.000000  sometimes  1.000000  20.0000  20.0000\n",
              "0     Default  1.000000        bad  1.000000  19.0000  19.0000\n",
              "3     Default  1.000000       like  1.000000  18.0000  18.0000\n",
              "1     Default  1.000000    consume  1.000000  17.0000  17.0000\n",
              "30    Default  1.000000     expert  1.000000  16.0000  16.0000\n",
              "31    Default  1.000000       good  1.000000  15.0000  15.0000\n",
              "32    Default  1.000000     health  1.000000  14.0000  14.0000\n",
              "33    Default  1.000000  lifestyle  1.000000  13.0000  13.0000\n",
              "34    Default  1.000000        say  1.000000  12.0000  12.0000\n",
              "18    Default  1.000000   pressure  1.000000  11.0000  11.0000\n",
              "19    Default  1.000000     stress  1.000000  10.0000  10.0000\n",
              "20    Default  1.000000    suggest  1.000000   9.0000   9.0000\n",
              "16    Default  1.000000  increased  1.000000   8.0000   8.0000\n",
              "15    Default  1.000000     doctor  1.000000   7.0000   7.0000\n",
              "14    Default  1.000000      cause  1.000000   6.0000   6.0000\n",
              "13    Default  1.000000      blood  1.000000   5.0000   5.0000\n",
              "17    Default  1.000000        may  1.000000   4.0000   4.0000\n",
              "12    Default  1.000000       time  1.000000   3.0000   3.0000\n",
              "11    Default  1.000000     spends  1.000000   2.0000   2.0000\n",
              "10    Default  1.000000   practice  1.000000   1.0000   1.0000\n",
              "...       ...       ...        ...       ...      ...      ...\n",
              "21     Topic3  0.707998     better  1.079159   0.8073  -2.8777\n",
              "29     Topic3  0.707998       well  1.079159   0.8073  -2.8777\n",
              "28     Topic3  0.707998  sometimes  1.079159   0.8073  -2.8777\n",
              "27     Topic3  0.707998      seems  1.079159   0.8073  -2.8777\n",
              "26     Topic3  0.707998     school  1.079159   0.8073  -2.8777\n",
              "24     Topic3  0.707998      never  1.079159   0.8073  -2.8777\n",
              "23     Topic3  0.707998       feel  1.079159   0.8073  -2.8777\n",
              "22     Topic3  0.707998      drive  1.079159   0.8073  -2.8777\n",
              "18     Topic3  0.709986   pressure  1.674811   0.3706  -2.8749\n",
              "2      Topic3  0.712535     father  2.191751   0.1052  -2.8713\n",
              "4      Topic3  0.712535     sister  2.191751   0.1052  -2.8713\n",
              "33     Topic3  0.177258  lifestyle  1.065009  -0.5643  -4.2625\n",
              "34     Topic3  0.177258        say  1.065009  -0.5643  -4.2625\n",
              "30     Topic3  0.177258     expert  1.065009  -0.5643  -4.2625\n",
              "31     Topic3  0.177258       good  1.065009  -0.5643  -4.2625\n",
              "32     Topic3  0.177258     health  1.065009  -0.5643  -4.2625\n",
              "1      Topic3  0.177256    consume  1.065008  -0.5643  -4.2626\n",
              "3      Topic3  0.177256       like  1.065008  -0.5643  -4.2626\n",
              "0      Topic3  0.177256        bad  1.065008  -0.5643  -4.2626\n",
              "12     Topic3  0.177242       time  1.143877  -0.6359  -4.2626\n",
              "11     Topic3  0.177242     spends  1.143877  -0.6359  -4.2626\n",
              "10     Topic3  0.177242   practice  1.143877  -0.6359  -4.2626\n",
              "9      Topic3  0.177242        lot  1.143877  -0.6359  -4.2626\n",
              "7      Topic3  0.177242      dance  1.143877  -0.6359  -4.2626\n",
              "6      Topic3  0.177242     around  1.143877  -0.6359  -4.2626\n",
              "14     Topic3  0.177228      cause  1.143883  -0.6359  -4.2627\n",
              "13     Topic3  0.177228      blood  1.143883  -0.6359  -4.2627\n",
              "15     Topic3  0.177228     doctor  1.143883  -0.6359  -4.2627\n",
              "16     Topic3  0.177228  increased  1.143883  -0.6359  -4.2627\n",
              "5      Topic3  0.177241      sugar  2.098943  -1.2429  -4.2626\n",
              "\n",
              "[130 rows x 6 columns], token_table=      Topic      Freq       Term\n",
              "term                            \n",
              "6         1  0.874220     around\n",
              "0         2  0.938960        bad\n",
              "21        3  0.926648     better\n",
              "13        1  0.874216      blood\n",
              "14        1  0.874216      cause\n",
              "1         2  0.938960    consume\n",
              "7         1  0.874220      dance\n",
              "15        1  0.874216     doctor\n",
              "22        3  0.926648      drive\n",
              "8         1  0.574778    driving\n",
              "30        2  0.938959     expert\n",
              "2         1  0.456256     father\n",
              "2         2  0.456256     father\n",
              "2         3  0.456256     father\n",
              "23        3  0.926648       feel\n",
              "31        2  0.938959       good\n",
              "32        2  0.938959     health\n",
              "16        1  0.874216  increased\n",
              "33        2  0.938959  lifestyle\n",
              "3         2  0.938960       like\n",
              "9         1  0.874220        lot\n",
              "17        1  0.874216        may\n",
              "24        3  0.926648      never\n",
              "25        3  0.926648    perform\n",
              "10        1  0.874220   practice\n",
              "18        1  0.597082   pressure\n",
              "18        3  0.597082   pressure\n",
              "34        2  0.938959        say\n",
              "26        3  0.926648     school\n",
              "27        3  0.926648      seems\n",
              "4         1  0.456256     sister\n",
              "4         2  0.456256     sister\n",
              "4         3  0.456256     sister\n",
              "28        3  0.926648  sometimes\n",
              "11        1  0.874220     spends\n",
              "19        1  0.874216     stress\n",
              "5         2  0.952860      sugar\n",
              "20        1  0.874216    suggest\n",
              "12        1  0.874220       time\n",
              "29        3  0.926648       well, R=30, lambda_step=0.01, plot_opts={'xlab': 'PC1', 'ylab': 'PC2'}, topic_order=[2, 1, 3])"
            ]
          },
          "metadata": {
            "tags": []
          },
          "execution_count": 36
        }
      ]
    }
  ]
}