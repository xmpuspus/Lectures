{
  "nbformat": 4,
  "nbformat_minor": 0,
  "metadata": {
    "colab": {
      "name": "IntroMultiLinearRegression.ipynb",
      "version": "0.3.2",
      "provenance": [],
      "collapsed_sections": [],
      "include_colab_link": true
    },
    "kernelspec": {
      "name": "python3",
      "display_name": "Python 3"
    }
  },
  "cells": [
    {
      "cell_type": "markdown",
      "metadata": {
        "id": "view-in-github",
        "colab_type": "text"
      },
      "source": [
        "<a href=\"https://colab.research.google.com/github/xmpuspus/Lectures/blob/master/notebooks/IntroMultiLinearRegression.ipynb\" target=\"_parent\"><img src=\"https://colab.research.google.com/assets/colab-badge.svg\" alt=\"Open In Colab\"/></a>"
      ]
    },
    {
      "cell_type": "markdown",
      "metadata": {
        "id": "Ktm3sOMfTvg5",
        "colab_type": "text"
      },
      "source": [
        "# Market Mix Model  \n",
        "\n",
        "- Market Mix Modeling (MMM) is a technique which helps in quantifying the impact of several marketing inputs on sales or Market Share. The purpose of using MMM is to understand how much each marketing input contributes to sales, and how much to spend on each marketing input.  \n",
        "\n",
        "\n",
        "- MMM helps in the ascertaining the effectiveness of each marketing input in terms of Return on Investment. In other words, a marketing input with higher return on Investment (ROI) is more effective as a medium than a marketing input with a lower ROI.  \n",
        "\n",
        "\n",
        "- MMM uses the Regression technique and the analysis performed through Regression is further used for extracting key information/insights.  \n",
        "\n",
        "Reference: [link](https://towardsdatascience.com/market-mix-modeling-mmm-101-3d094df976f9)"
      ]
    },
    {
      "cell_type": "code",
      "metadata": {
        "id": "7zpeeMz3Tuwg",
        "colab_type": "code",
        "colab": {}
      },
      "source": [
        "# IMPORT GENERIC PACKAGES\n",
        "import numpy as np # numerical calc package\n",
        "import pandas as pd # holds data\n",
        "\n",
        "from sklearn.linear_model import LinearRegression # linear regression package"
      ],
      "execution_count": 0,
      "outputs": []
    },
    {
      "cell_type": "markdown",
      "metadata": {
        "id": "7C87_dITVLVl",
        "colab_type": "text"
      },
      "source": [
        "## Objective: Determine Impact of Features to Sales using Contribution Chart   \n",
        "Contribution Chart is a visual way of representing what marketing inputs drive sales and how much is the impact of each marketing input.  \n",
        "It always helps to ease the cognitive burden off your time-starved clients by representing market reality in a visual way."
      ]
    },
    {
      "cell_type": "markdown",
      "metadata": {
        "id": "vmcYA62FX6xl",
        "colab_type": "text"
      },
      "source": [
        "## Load Data"
      ]
    },
    {
      "cell_type": "code",
      "metadata": {
        "id": "DerfCAzkUiJ6",
        "colab_type": "code",
        "colab": {}
      },
      "source": [
        "# read data into a DataFrame\n",
        "data = pd.read_csv('http://www-bcf.usc.edu/~gareth/ISL/Advertising.csv', index_col=0)"
      ],
      "execution_count": 0,
      "outputs": []
    },
    {
      "cell_type": "markdown",
      "metadata": {
        "id": "HPcbIWILX5S2",
        "colab_type": "text"
      },
      "source": [
        "## Modeling"
      ]
    },
    {
      "cell_type": "code",
      "metadata": {
        "id": "rV3DWrfcVnWL",
        "colab_type": "code",
        "colab": {}
      },
      "source": [
        "# Define Features\n",
        "features = ['TV', 'newspaper']\n",
        "\n",
        "# Set X\n",
        "X = data[features]\n",
        "\n",
        "# Set y\n",
        "y = data['sales']\n",
        "\n",
        "# Initialize model\n",
        "model = LinearRegression() \n",
        "\n",
        "# Fit Model\n",
        "model.fit(X, y)\n",
        "\n",
        "# get coefficients\n",
        "coefficients = model.coef_\n",
        "\n",
        "# get intercept\n",
        "intercept = model.intercept_\n",
        "\n",
        "# calculate the R-squared\n",
        "rsquared = model.score(X, y)\n"
      ],
      "execution_count": 0,
      "outputs": []
    },
    {
      "cell_type": "markdown",
      "metadata": {
        "id": "6JuVKfaeXoUS",
        "colab_type": "text"
      },
      "source": [
        "## Results"
      ]
    },
    {
      "cell_type": "code",
      "metadata": {
        "id": "EptlQ1pAmEua",
        "colab_type": "code",
        "outputId": "59ab884e-bf26-4a99-8ce5-21c35db54903",
        "colab": {
          "base_uri": "https://localhost:8080/",
          "height": 34
        }
      },
      "source": [
        "# intercept\n",
        "intercept"
      ],
      "execution_count": 0,
      "outputs": [
        {
          "output_type": "execute_result",
          "data": {
            "text/plain": [
              "5.7749479679116344"
            ]
          },
          "metadata": {
            "tags": []
          },
          "execution_count": 24
        }
      ]
    },
    {
      "cell_type": "code",
      "metadata": {
        "id": "kd61HU2sV9mW",
        "colab_type": "code",
        "outputId": "d276716d-5dae-421e-8bcb-99b27695ef37",
        "colab": {
          "base_uri": "https://localhost:8080/",
          "height": 34
        }
      },
      "source": [
        "# metric\n",
        "rsquared"
      ],
      "execution_count": 0,
      "outputs": [
        {
          "output_type": "execute_result",
          "data": {
            "text/plain": [
              "0.6458354938293271"
            ]
          },
          "metadata": {
            "tags": []
          },
          "execution_count": 22
        }
      ]
    },
    {
      "cell_type": "markdown",
      "metadata": {
        "id": "_ObMUNKVV-se",
        "colab_type": "text"
      },
      "source": [
        "Results show that the $R^2 = 0.646$ which basically tells us that the model, in a way, is able predict *Sales*.  \n"
      ]
    },
    {
      "cell_type": "code",
      "metadata": {
        "id": "QYZZNZGdXsrD",
        "colab_type": "code",
        "outputId": "27178752-8eee-4165-8cc8-0dcc323be441",
        "colab": {
          "base_uri": "https://localhost:8080/",
          "height": 34
        }
      },
      "source": [
        "# coefficients\n",
        "coefficients"
      ],
      "execution_count": 0,
      "outputs": [
        {
          "output_type": "execute_result",
          "data": {
            "text/plain": [
              "array([0.04690121, 0.04421942])"
            ]
          },
          "metadata": {
            "tags": []
          },
          "execution_count": 23
        }
      ]
    },
    {
      "cell_type": "markdown",
      "metadata": {
        "id": "I4TeOG8jY-6f",
        "colab_type": "text"
      },
      "source": [
        "### Equation of Line . \n",
        "The equation of the red line is just: \n",
        "\n",
        "$\\begin {equation}\n",
        "Sales = 0.04690121 * TV + 0.04421942 * newspaper + 5.774947\n",
        "\\end {equation}$  \n",
        "\n",
        "### Interpreting the Coefficients\n",
        "- For a given amount of Radio and Newspaper ad spending, an **increase of 1000 dollars in TV ad spending** is associated with an **increase in Sales of 46 widgets** (assuming everything else is unchanged).\n",
        "\n",
        "- For a given amount of TV and Radio ad spending, a **Increase of 1000 dollars in newspaper ad spending** is associated with an **increase in Sales of 44 widget**."
      ]
    },
    {
      "cell_type": "markdown",
      "metadata": {
        "id": "l8np8CJNZI_C",
        "colab_type": "text"
      },
      "source": [
        "### Bonus: Plot Contribution Chart"
      ]
    },
    {
      "cell_type": "code",
      "metadata": {
        "id": "fs0uspMkYI9B",
        "colab_type": "code",
        "outputId": "0ae3cf4f-5197-48f9-e7f3-86de642ffb2a",
        "colab": {
          "base_uri": "https://localhost:8080/",
          "height": 111
        }
      },
      "source": [
        "# put coefficients into dataframe\n",
        "# pair the feature names with the coefficients\n",
        "coefficients_pd = pd.DataFrame((list(zip(features, model.coef_ * 100))), columns = ['Features', 'Coefficients'])\n",
        "\n",
        "# print table of coefficients for contribution chart\n",
        "coefficients_pd\n"
      ],
      "execution_count": 0,
      "outputs": [
        {
          "output_type": "execute_result",
          "data": {
            "text/html": [
              "<div>\n",
              "<style scoped>\n",
              "    .dataframe tbody tr th:only-of-type {\n",
              "        vertical-align: middle;\n",
              "    }\n",
              "\n",
              "    .dataframe tbody tr th {\n",
              "        vertical-align: top;\n",
              "    }\n",
              "\n",
              "    .dataframe thead th {\n",
              "        text-align: right;\n",
              "    }\n",
              "</style>\n",
              "<table border=\"1\" class=\"dataframe\">\n",
              "  <thead>\n",
              "    <tr style=\"text-align: right;\">\n",
              "      <th></th>\n",
              "      <th>Features</th>\n",
              "      <th>Coefficients</th>\n",
              "    </tr>\n",
              "  </thead>\n",
              "  <tbody>\n",
              "    <tr>\n",
              "      <th>0</th>\n",
              "      <td>TV</td>\n",
              "      <td>4.690121</td>\n",
              "    </tr>\n",
              "    <tr>\n",
              "      <th>1</th>\n",
              "      <td>newspaper</td>\n",
              "      <td>4.421942</td>\n",
              "    </tr>\n",
              "  </tbody>\n",
              "</table>\n",
              "</div>"
            ],
            "text/plain": [
              "    Features  Coefficients\n",
              "0         TV      4.690121\n",
              "1  newspaper      4.421942"
            ]
          },
          "metadata": {
            "tags": []
          },
          "execution_count": 25
        }
      ]
    },
    {
      "cell_type": "code",
      "metadata": {
        "id": "5fWb6wXMYf5R",
        "colab_type": "code",
        "outputId": "9628cb12-eba7-4470-df8f-87df1e5fa1cd",
        "colab": {
          "base_uri": "https://localhost:8080/",
          "height": 609
        }
      },
      "source": [
        "# Plot Contribution chart\n",
        "coefficients_pd.set_index('Features').plot(kind = 'barh', color = 'g')"
      ],
      "execution_count": 0,
      "outputs": [
        {
          "output_type": "execute_result",
          "data": {
            "text/plain": [
              "<matplotlib.axes._subplots.AxesSubplot at 0x7fc78f2df438>"
            ]
          },
          "metadata": {
            "tags": []
          },
          "execution_count": 27
        },
        {
          "output_type": "display_data",
          "data": {
            "image/png": "[encoded data removed]",
            "text/plain": [
              "<matplotlib.figure.Figure at 0x7fc78f2ce160>"
            ]
          },
          "metadata": {
            "tags": []
          }
        }
      ]
    },
    {
      "cell_type": "markdown",
      "metadata": {
        "id": "BoLtN7KFmj6n",
        "colab_type": "text"
      },
      "source": [
        "# Exercise: Construct Contribution Chart\n",
        "- use pairs or all features *TV*, *Radio* and *newspaper*,\n",
        "- follow steps outlined above to setup the regression analysis,\n",
        "- output the coefficients,\n",
        "- explain the results."
      ]
    }
  ]
}