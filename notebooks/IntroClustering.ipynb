{
  "nbformat": 4,
  "nbformat_minor": 0,
  "metadata": {
    "colab": {
      "name": "IntroClustering.ipynb",
      "version": "0.3.2",
      "provenance": [],
      "collapsed_sections": [],
      "toc_visible": true,
      "include_colab_link": true
    },
    "kernelspec": {
      "name": "python3",
      "display_name": "Python 3"
    }
  },
  "cells": [
    {
      "cell_type": "markdown",
      "metadata": {
        "id": "view-in-github",
        "colab_type": "text"
      },
      "source": [
        "<a href=\"https://colab.research.google.com/github/xmpuspus/Lectures/blob/master/notebooks/IntroClustering.ipynb\" target=\"_parent\"><img src=\"https://colab.research.google.com/assets/colab-badge.svg\" alt=\"Open In Colab\"/></a>"
      ]
    },
    {
      "cell_type": "markdown",
      "metadata": {
        "id": "H7ca5LzVt6NJ",
        "colab_type": "text"
      },
      "source": [
        "# Clustering\n",
        "\n",
        "Clustering is one of the most frequently utilized forms of unsupervised learning. In this article, we’ll explore two of the most common forms of clustering: k-means and hierarchical.  \n",
        "\n",
        "Reference: [link](https://towardsdatascience.com/an-introduction-to-clustering-algorithms-in-python-123438574097)\n",
        "\n",
        "### Understanding the K-Means Clustering Algorithm\n",
        "\n",
        "Let’s look at how k-means clustering works. First, let me introduce you to my good friend, blobby; i.e. the make_blobs function in Python’s sci-kit learn library. We’ll create four random clusters using make_blobs to aid in our task."
      ]
    },
    {
      "cell_type": "markdown",
      "metadata": {
        "id": "wY6dP-s8VQvv",
        "colab_type": "text"
      },
      "source": [
        "### Load Packages"
      ]
    },
    {
      "cell_type": "code",
      "metadata": {
        "id": "ZOQWxdovUSE_",
        "colab_type": "code",
        "colab": {}
      },
      "source": [
        "# import statements\n",
        "from sklearn.datasets import make_blobs\n",
        "import numpy as np\n",
        "import matplotlib.pyplot as plt"
      ],
      "execution_count": 0,
      "outputs": []
    },
    {
      "cell_type": "markdown",
      "metadata": {
        "id": "N-z1AuojVTUV",
        "colab_type": "text"
      },
      "source": [
        "### Create Synthetic Dataset"
      ]
    },
    {
      "cell_type": "code",
      "metadata": {
        "id": "SqbkqkNWugqX",
        "colab_type": "code",
        "colab": {}
      },
      "source": [
        "# create blobs\n",
        "data = make_blobs(n_samples=200, n_features=2, centers=4, cluster_std=1.6, random_state=50)\n",
        "\n",
        "\n",
        "# create np array for data points\n",
        "points = data[0]"
      ],
      "execution_count": 0,
      "outputs": []
    },
    {
      "cell_type": "markdown",
      "metadata": {
        "id": "l5ygpToDVddC",
        "colab_type": "text"
      },
      "source": [
        "### Inspect Synthetic Dataset"
      ]
    },
    {
      "cell_type": "code",
      "metadata": {
        "id": "ufdrXwilUVzS",
        "colab_type": "code",
        "outputId": "24ddc559-0dbd-4686-a4c3-bf228676ad0c",
        "colab": {
          "base_uri": "https://localhost:8080/",
          "height": 634
        }
      },
      "source": [
        "# create scatter plot\n",
        "plt.figure(figsize = (20, 10))\n",
        "# plt.scatter(data[0][:,0], data[0][:,1], c=data[1], cmap='viridis')\n",
        "plt.scatter(data[0][:,0], data[0][:,1])\n",
        "plt.xlim(-15,15)\n",
        "plt.ylim(-15,15)"
      ],
      "execution_count": 0,
      "outputs": [
        {
          "output_type": "execute_result",
          "data": {
            "text/plain": [
              "(-15, 15)"
            ]
          },
          "metadata": {
            "tags": []
          },
          "execution_count": 3
        },
        {
          "output_type": "display_data",
          "data": {
            "image/png": "[encoded data removed]",
            "text/plain": [
              "<Figure size 1440x720 with 1 Axes>"
            ]
          },
          "metadata": {
            "tags": []
          }
        }
      ]
    },
    {
      "cell_type": "markdown",
      "metadata": {
        "id": "6EXofld1uipn",
        "colab_type": "text"
      },
      "source": [
        "We have four colored clusters, but there is some overlap with the two clusters on top, as well as the two clusters on the bottom. The first step in k-means clustering is to select random centroids.  \n",
        "\n",
        "### Implementing K-Means Clustering in Python\n",
        "\n",
        "To run k-means in Python, we’ll need to import KMeans from sci-kit learn.\n",
        "\n"
      ]
    },
    {
      "cell_type": "code",
      "metadata": {
        "id": "_Yefe6GSutz5",
        "colab_type": "code",
        "colab": {}
      },
      "source": [
        "# import KMeans\n",
        "from sklearn.cluster import KMeans"
      ],
      "execution_count": 0,
      "outputs": []
    },
    {
      "cell_type": "code",
      "metadata": {
        "id": "HdaYwkrvvnM9",
        "colab_type": "code",
        "outputId": "b5ae7dea-cfab-4aa3-ca1e-f1b953b6c744",
        "colab": {
          "base_uri": "https://localhost:8080/",
          "height": 69
        }
      },
      "source": [
        "# create kmeans object\n",
        "kmeans = KMeans(n_clusters=3)\n",
        "\n",
        "# fit kmeans object to data\n",
        "kmeans.fit(points)\n",
        "\n",
        "# print location of clusters learned by kmeans object\n",
        "print(kmeans.cluster_centers_)\n",
        "\n",
        "# save new clusters for chart\n",
        "y_km = kmeans.fit_predict(points)"
      ],
      "execution_count": 0,
      "outputs": [
        {
          "output_type": "stream",
          "text": [
            "[[-2.13583883  7.57989854]\n",
            " [ 0.05161133 -5.35489826]\n",
            " [-5.50955539 -2.25816149]]\n"
          ],
          "name": "stdout"
        }
      ]
    },
    {
      "cell_type": "markdown",
      "metadata": {
        "id": "SSabS7Swvo9O",
        "colab_type": "text"
      },
      "source": [
        "Now, we can see the results by running the following code in matplotlib."
      ]
    },
    {
      "cell_type": "code",
      "metadata": {
        "id": "JUXiUwNJvtsR",
        "colab_type": "code",
        "outputId": "de0bf5d4-4745-4ae8-c8bc-2ac3da30c250",
        "colab": {
          "base_uri": "https://localhost:8080/",
          "height": 633
        }
      },
      "source": [
        "plt.figure(figsize = (20, 10))\n",
        "plt.scatter(points[y_km ==0,0], points[y_km == 0,1], s=100, c='red')\n",
        "plt.scatter(points[y_km ==1,0], points[y_km == 1,1], s=100, c='black')\n",
        "plt.scatter(points[y_km ==2,0], points[y_km == 2,1], s=100, c='blue')\n",
        "# plt.scatter(points[y_km ==3,0], points[y_km == 3,1], s=100, c='cyan')\n"
      ],
      "execution_count": 0,
      "outputs": [
        {
          "output_type": "execute_result",
          "data": {
            "text/plain": [
              "<matplotlib.collections.PathCollection at 0x7f3f3ade78d0>"
            ]
          },
          "metadata": {
            "tags": []
          },
          "execution_count": 6
        },
        {
          "output_type": "display_data",
          "data": {
            "image/png": "[encoded data removed]",
            "text/plain": [
              "<Figure size 1440x720 with 1 Axes>"
            ]
          },
          "metadata": {
            "tags": []
          }
        }
      ]
    },
    {
      "cell_type": "markdown",
      "metadata": {
        "id": "VHFASplxvvIQ",
        "colab_type": "text"
      },
      "source": [
        "And voila! We have our 4 clusters. Note that the k-means++ algorithm did a better job than the plain ole’ k-means I ran in the example, as it nearly perfectly captured the boundaries of the initial clusters we created.\n",
        "\n"
      ]
    },
    {
      "cell_type": "code",
      "metadata": {
        "id": "k_g68WaOJfw4",
        "colab_type": "code",
        "colab": {}
      },
      "source": [
        ""
      ],
      "execution_count": 0,
      "outputs": []
    }
  ]
}