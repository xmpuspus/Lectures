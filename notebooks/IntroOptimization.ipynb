{
  "nbformat": 4,
  "nbformat_minor": 0,
  "metadata": {
    "colab": {
      "name": "IntroOptimization.ipynb",
      "version": "0.3.2",
      "provenance": [],
      "collapsed_sections": [],
      "include_colab_link": true
    },
    "kernelspec": {
      "name": "python3",
      "display_name": "Python 3"
    }
  },
  "cells": [
    {
      "cell_type": "markdown",
      "metadata": {
        "id": "view-in-github",
        "colab_type": "text"
      },
      "source": [
        "<a href=\"https://colab.research.google.com/github/xmpuspus/Lectures/blob/master/notebooks/IntroOptimization.ipynb\" target=\"_parent\"><img src=\"https://colab.research.google.com/assets/colab-badge.svg\" alt=\"Open In Colab\"/></a>"
      ]
    },
    {
      "cell_type": "markdown",
      "metadata": {
        "id": "0yaehE0DmqX9",
        "colab_type": "text"
      },
      "source": [
        "# Optimization  \n",
        "Many real world problems involve trying to maximize or minimize things, may it be sales, fraud, profit, customers, etc. Fortunately, we have a tool called *Linear Programming* that can help estimate solutions to these problems.  \n",
        "\n",
        "### Introduction to Linear Programming with Python  \n",
        "\n",
        "Linear Programming, also sometimes called linear optimisation, involves maximising or minimising a linear objective function, subject to a set of linear inequality or equality constraints.  \n",
        "\n",
        "It has great applications in the field of operations management but can be used to solve a range of problems.  \n",
        "\n",
        "Leonard Kantrovich was awarded the 1975 Nobel Price in Economics for the optimal allocation of resources using linear programming.  \n",
        "\n",
        "Examples of problems that can be solved by linear programming include:  \n",
        "\n",
        "- Scheduling – Rota or Factory scheduling to meet production/workload demands at lowest cost  \n",
        "- Resourcing Problems – How best to allocate resources to maximise profits  \n",
        "- Blending Problems – Cost effectively blending a mixture of components  \n",
        "- Sudoku    \n",
        "In this series of posts, we explore some linear programming examples, starting with some very basic Mathematical theory behind the technique and moving on to some real world examples.  \n",
        "\n",
        "We will be using python and the PuLP linear programming package to solve these linear programming problems. PuLP largely uses python syntax and comes packaged with the CBC solver; it also integrates nicely with a range of open source and commercial LP solvers.  \n",
        "\n",
        "This tutorial should have you up and running and solving your own linear programming problems using python in no time.  \n",
        "Reference : [link](http://benalexkeen.com/linear-programming-with-python-and-pulp-part-3/)"
      ]
    },
    {
      "cell_type": "markdown",
      "metadata": {
        "id": "XOcakJ8Tn1yS",
        "colab_type": "text"
      },
      "source": [
        "### Example: Resourcing Problem¶\n",
        "We’re consulting for a boutique car manufacturer, producing luxury cars. They run on one month (30 days) cycles, we have one cycle to show we can provide value. There is one robot, 2 engineers and one detailer in the factory. The detailer has some holiday off, so only has 21 days available.  \n",
        "\n",
        "The 2 cars need different time with each resource:  \n",
        "\n",
        "- Robot time: Car A – 3 days; Car B – 4 days.  \n",
        "\n",
        "- Engineer time: Car A – 5 days; Car B – 6 days.  \n",
        "\n",
        "- Detailer time: Car A – 1.5 days; Car B – 3 days.  \n",
        "\n",
        "Car A provides €30,000 profit, whilst Car B offers €45,000 profit.  \n",
        "\n",
        "At the moment, they produce 4 of each cars per month, for €300,000 profit. Not bad at all, but we think we can do better for them."
      ]
    },
    {
      "cell_type": "markdown",
      "metadata": {
        "id": "PnvA4qDCqED9",
        "colab_type": "text"
      },
      "source": [
        "### 1. Import Package"
      ]
    },
    {
      "cell_type": "code",
      "metadata": {
        "id": "ZbFu4omop1AC",
        "colab_type": "code",
        "outputId": "94e4a5f2-80d3-41a1-8b34-c0a6c8bd633e",
        "colab": {
          "base_uri": "https://localhost:8080/",
          "height": 194
        }
      },
      "source": [
        "!pip install pulp\n",
        "import pulp # Linear Programming Package"
      ],
      "execution_count": 0,
      "outputs": [
        {
          "output_type": "stream",
          "text": [
            "Collecting pulp\n",
            "\u001b[?25l  Downloading https://files.pythonhosted.org/packages/91/cd/8ed5d788973f6632cc44d0e95c486646c090c427c90667c901b75e544bc1/PuLP-1.6.9.zip (13.6MB)\n",
            "\u001b[K    100% |████████████████████████████████| 13.6MB 2.6MB/s \n",
            "\u001b[?25hRequirement already satisfied: pyparsing>=2.0.1 in /usr/local/lib/python3.6/dist-packages (from pulp) (2.3.0)\n",
            "Building wheels for collected packages: pulp\n",
            "  Running setup.py bdist_wheel for pulp ... \u001b[?25l-\b \b\\\b \b|\b \b/\b \b-\b \b\\\b \b|\b \bdone\n",
            "\u001b[?25h  Stored in directory: /root/.cache/pip/wheels/3b/f1/f5/f6d0aac56dd154c2593d3fa5e901aa9bc32a51bd8594b4bf8e\n",
            "Successfully built pulp\n",
            "Installing collected packages: pulp\n",
            "Successfully installed pulp-1.6.9\n"
          ],
          "name": "stdout"
        }
      ]
    },
    {
      "cell_type": "markdown",
      "metadata": {
        "id": "3MosYVmzqi5O",
        "colab_type": "text"
      },
      "source": [
        "### 2. Instantiate Model"
      ]
    },
    {
      "cell_type": "code",
      "metadata": {
        "id": "ZxRpQqhcqHSe",
        "colab_type": "code",
        "colab": {}
      },
      "source": [
        "# Instantiate our problem class\n",
        "model = pulp.LpProblem(\"Profit maximising problem\", pulp.LpMaximize)"
      ],
      "execution_count": 0,
      "outputs": []
    },
    {
      "cell_type": "code",
      "metadata": {
        "id": "dqmwsxSdqcVG",
        "colab_type": "code",
        "colab": {}
      },
      "source": [
        "# Set Varialbes\n",
        "A = pulp.LpVariable('A', lowBound=0, cat='Integer')\n",
        "B = pulp.LpVariable('B', lowBound=0, cat='Integer')"
      ],
      "execution_count": 0,
      "outputs": []
    },
    {
      "cell_type": "code",
      "metadata": {
        "id": "1bQgmglvqgFk",
        "colab_type": "code",
        "colab": {}
      },
      "source": [
        "# Objective function\n",
        "model += 30000 * A + 45000 * B, \"Profit\"\n",
        "\n",
        "# Constraints\n",
        "model += 3 * A + 4 * B <= 30\n",
        "model += 5 * A + 6 * B <= 60\n",
        "model += 1.5 * A + 3 * B <= 21"
      ],
      "execution_count": 0,
      "outputs": []
    },
    {
      "cell_type": "code",
      "metadata": {
        "id": "izNIP4rSqmRQ",
        "colab_type": "code",
        "outputId": "c7712a5d-5896-40e6-80e9-c4ec4de67154",
        "colab": {
          "base_uri": "https://localhost:8080/",
          "height": 34
        }
      },
      "source": [
        "# Solve our problem\n",
        "model.solve()\n",
        "pulp.LpStatus[model.status]"
      ],
      "execution_count": 0,
      "outputs": [
        {
          "output_type": "execute_result",
          "data": {
            "text/plain": [
              "'Optimal'"
            ]
          },
          "metadata": {
            "tags": []
          },
          "execution_count": 6
        }
      ]
    },
    {
      "cell_type": "code",
      "metadata": {
        "id": "d6KL7CdIqoiQ",
        "colab_type": "code",
        "outputId": "fcaf9463-faf7-42d2-9327-4685e570c27a",
        "colab": {
          "base_uri": "https://localhost:8080/",
          "height": 52
        }
      },
      "source": [
        "# Print our decision variable values\n",
        "print (\"Production of Car A = {}\".format(A.varValue))\n",
        "print (\"Production of Car B = {}\".format(B.varValue))"
      ],
      "execution_count": 0,
      "outputs": [
        {
          "output_type": "stream",
          "text": [
            "Production of Car A = 2.0\n",
            "Production of Car B = 6.0\n"
          ],
          "name": "stdout"
        }
      ]
    },
    {
      "cell_type": "code",
      "metadata": {
        "id": "KUsw5MZnqqiQ",
        "colab_type": "code",
        "outputId": "0ba83d37-48d0-49f1-af93-de6a92f48436",
        "colab": {
          "base_uri": "https://localhost:8080/",
          "height": 34
        }
      },
      "source": [
        "# Print our objective function value\n",
        "print (pulp.value(model.objective))"
      ],
      "execution_count": 0,
      "outputs": [
        {
          "output_type": "stream",
          "text": [
            "330000.0\n"
          ],
          "name": "stdout"
        }
      ]
    },
    {
      "cell_type": "markdown",
      "metadata": {
        "id": "WSYLGGLmqwFw",
        "colab_type": "text"
      },
      "source": [
        "So that’s €330,000 monthly profit, compared to their original monthly profit of €300,000.  \n",
        "\n",
        "By producing 2 cars of Car A and 4 cars of Car B, we bolster the profits at the factory by €30,000 per month.  \n",
        "\n",
        "We take our consultancy fee and leave the company with €360,000 extra profit for the factory every year.  "
      ]
    }
  ]
}